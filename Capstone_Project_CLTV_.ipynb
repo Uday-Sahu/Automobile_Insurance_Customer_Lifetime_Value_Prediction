{
 "cells": [
  {
   "cell_type": "markdown",
   "metadata": {},
   "source": [
    "# IMPORTING LIBRARIES."
   ]
  },
  {
   "cell_type": "code",
   "execution_count": 1,
   "metadata": {
    "ExecuteTime": {
     "end_time": "2020-01-18T14:24:50.410131Z",
     "start_time": "2020-01-18T14:23:20.935665Z"
    }
   },
   "outputs": [],
   "source": [
    "import numpy as np\n",
    "import pandas as pd\n",
    "import matplotlib.pyplot as plt\n",
    "import seaborn as sns\n",
    "import warnings\n",
    "warnings.filterwarnings('ignore')"
   ]
  },
  {
   "cell_type": "code",
   "execution_count": 2,
   "metadata": {
    "ExecuteTime": {
     "end_time": "2020-01-18T14:37:11.306339Z",
     "start_time": "2020-01-18T14:37:11.300342Z"
    }
   },
   "outputs": [],
   "source": [
    "pd.set_option('display.max_columns',999)"
   ]
  },
  {
   "cell_type": "code",
   "execution_count": 3,
   "metadata": {
    "ExecuteTime": {
     "end_time": "2020-01-18T14:37:32.250206Z",
     "start_time": "2020-01-18T14:37:12.443188Z"
    }
   },
   "outputs": [],
   "source": [
    "import statsmodels.api as sm"
   ]
  },
  {
   "cell_type": "code",
   "execution_count": 4,
   "metadata": {
    "ExecuteTime": {
     "end_time": "2020-01-18T14:37:50.498837Z",
     "start_time": "2020-01-18T14:37:34.297289Z"
    }
   },
   "outputs": [],
   "source": [
    "from sklearn.preprocessing import LabelEncoder\n",
    "le = LabelEncoder()"
   ]
  },
  {
   "cell_type": "code",
   "execution_count": 5,
   "metadata": {
    "ExecuteTime": {
     "end_time": "2020-01-18T14:37:57.137488Z",
     "start_time": "2020-01-18T14:37:55.051072Z"
    }
   },
   "outputs": [],
   "source": [
    "from sklearn.model_selection import train_test_split\n",
    "from sklearn.model_selection import GridSearchCV"
   ]
  },
  {
   "cell_type": "code",
   "execution_count": 6,
   "metadata": {
    "ExecuteTime": {
     "end_time": "2020-01-18T14:38:04.992412Z",
     "start_time": "2020-01-18T14:38:01.200010Z"
    }
   },
   "outputs": [],
   "source": [
    "from sklearn.linear_model import LinearRegression\n",
    "lr = LinearRegression()"
   ]
  },
  {
   "cell_type": "code",
   "execution_count": 7,
   "metadata": {
    "ExecuteTime": {
     "end_time": "2020-01-18T14:38:07.085302Z",
     "start_time": "2020-01-18T14:38:07.079308Z"
    }
   },
   "outputs": [],
   "source": [
    "from sklearn.metrics import r2_score\n",
    "from sklearn.metrics import mean_absolute_error\n",
    "from sklearn.metrics import mean_squared_error\n",
    "from sklearn.metrics import mean_absolute_error"
   ]
  },
  {
   "cell_type": "code",
   "execution_count": 8,
   "metadata": {
    "ExecuteTime": {
     "end_time": "2020-01-18T14:38:08.096699Z",
     "start_time": "2020-01-18T14:38:08.088706Z"
    }
   },
   "outputs": [],
   "source": [
    "def mean_absolute_percentage_error(y_true, y_pred): \n",
    "    y_true, y_pred = np.array(y_true), np.array(y_pred)\n",
    "    return np.mean(np.abs((y_true - y_pred) / y_true)) * 100"
   ]
  },
  {
   "cell_type": "code",
   "execution_count": 9,
   "metadata": {
    "ExecuteTime": {
     "end_time": "2020-01-18T14:38:09.268634Z",
     "start_time": "2020-01-18T14:38:09.263641Z"
    }
   },
   "outputs": [],
   "source": [
    "import statsmodels.stats.api as sms\n",
    "from statsmodels.compat import lzip"
   ]
  },
  {
   "cell_type": "code",
   "execution_count": 10,
   "metadata": {
    "ExecuteTime": {
     "end_time": "2020-01-18T14:38:10.701547Z",
     "start_time": "2020-01-18T14:38:10.642581Z"
    }
   },
   "outputs": [],
   "source": [
    "from statsmodels.stats import diagnostic as diag\n",
    "from statsmodels.stats.outliers_influence import variance_inflation_factor"
   ]
  },
  {
   "cell_type": "code",
   "execution_count": 11,
   "metadata": {
    "ExecuteTime": {
     "end_time": "2020-01-18T14:38:11.691759Z",
     "start_time": "2020-01-18T14:38:11.685762Z"
    }
   },
   "outputs": [],
   "source": [
    "from scipy.stats import normaltest,f_oneway\n",
    "from scipy.stats import ttest_ind"
   ]
  },
  {
   "cell_type": "code",
   "execution_count": 12,
   "metadata": {
    "ExecuteTime": {
     "end_time": "2020-01-18T14:38:14.384451Z",
     "start_time": "2020-01-18T14:38:12.680939Z"
    }
   },
   "outputs": [],
   "source": [
    "from mlxtend.feature_selection import SequentialFeatureSelector as SFS\n",
    "from mlxtend.plotting import plot_sequential_feature_selection as plot_sfs"
   ]
  },
  {
   "cell_type": "code",
   "execution_count": 13,
   "metadata": {
    "ExecuteTime": {
     "end_time": "2020-01-18T14:38:16.726443Z",
     "start_time": "2020-01-18T14:38:16.113036Z"
    }
   },
   "outputs": [],
   "source": [
    "from sklearn.tree import DecisionTreeRegressor\n",
    "from sklearn.tree import ExtraTreeRegressor"
   ]
  },
  {
   "cell_type": "code",
   "execution_count": 14,
   "metadata": {
    "ExecuteTime": {
     "end_time": "2020-01-18T14:38:17.364234Z",
     "start_time": "2020-01-18T14:38:17.360241Z"
    }
   },
   "outputs": [],
   "source": [
    "dt = DecisionTreeRegressor()\n",
    "et = ExtraTreeRegressor()"
   ]
  },
  {
   "cell_type": "code",
   "execution_count": 15,
   "metadata": {
    "ExecuteTime": {
     "end_time": "2020-01-18T14:38:19.033824Z",
     "start_time": "2020-01-18T14:38:18.201302Z"
    }
   },
   "outputs": [],
   "source": [
    "from sklearn.ensemble import AdaBoostRegressor\n",
    "from sklearn.ensemble import BaggingRegressor\n",
    "from sklearn.ensemble import ExtraTreesRegressor\n",
    "from sklearn.ensemble import GradientBoostingRegressor\n",
    "from sklearn.ensemble import RandomForestRegressor"
   ]
  },
  {
   "cell_type": "code",
   "execution_count": 16,
   "metadata": {
    "ExecuteTime": {
     "end_time": "2020-01-18T14:38:19.242924Z",
     "start_time": "2020-01-18T14:38:19.235936Z"
    }
   },
   "outputs": [],
   "source": [
    "abr = AdaBoostRegressor()\n",
    "br = BaggingRegressor()\n",
    "etr = ExtraTreesRegressor()\n",
    "gbr = GradientBoostingRegressor()\n",
    "rfr = RandomForestRegressor()"
   ]
  },
  {
   "cell_type": "code",
   "execution_count": 17,
   "metadata": {
    "ExecuteTime": {
     "end_time": "2020-01-18T14:38:20.178894Z",
     "start_time": "2020-01-18T14:38:20.174897Z"
    }
   },
   "outputs": [],
   "source": [
    "from sklearn.model_selection import GridSearchCV"
   ]
  },
  {
   "cell_type": "code",
   "execution_count": 18,
   "metadata": {
    "ExecuteTime": {
     "end_time": "2020-01-18T14:38:21.023733Z",
     "start_time": "2020-01-18T14:38:21.019736Z"
    }
   },
   "outputs": [],
   "source": [
    "from sklearn.model_selection import KFold"
   ]
  },
  {
   "cell_type": "markdown",
   "metadata": {},
   "source": [
    "# READING THE DATA SET."
   ]
  },
  {
   "cell_type": "code",
   "execution_count": 20,
   "metadata": {
    "ExecuteTime": {
     "end_time": "2020-01-18T14:41:18.780595Z",
     "start_time": "2020-01-18T14:41:17.283950Z"
    }
   },
   "outputs": [
    {
     "data": {
      "text/html": [
       "<div>\n",
       "<style scoped>\n",
       "    .dataframe tbody tr th:only-of-type {\n",
       "        vertical-align: middle;\n",
       "    }\n",
       "\n",
       "    .dataframe tbody tr th {\n",
       "        vertical-align: top;\n",
       "    }\n",
       "\n",
       "    .dataframe thead th {\n",
       "        text-align: right;\n",
       "    }\n",
       "</style>\n",
       "<table border=\"1\" class=\"dataframe\">\n",
       "  <thead>\n",
       "    <tr style=\"text-align: right;\">\n",
       "      <th></th>\n",
       "      <th>Customer</th>\n",
       "      <th>State</th>\n",
       "      <th>Customer Lifetime Value</th>\n",
       "      <th>Response</th>\n",
       "      <th>Coverage</th>\n",
       "      <th>Education</th>\n",
       "      <th>Effective To Date</th>\n",
       "      <th>EmploymentStatus</th>\n",
       "      <th>Gender</th>\n",
       "      <th>Income</th>\n",
       "      <th>Location Code</th>\n",
       "      <th>Marital Status</th>\n",
       "      <th>Monthly Premium Auto</th>\n",
       "      <th>Months Since Last Claim</th>\n",
       "      <th>Months Since Policy Inception</th>\n",
       "      <th>Number of Open Complaints</th>\n",
       "      <th>Number of Policies</th>\n",
       "      <th>Policy Type</th>\n",
       "      <th>Policy</th>\n",
       "      <th>Renew Offer Type</th>\n",
       "      <th>Sales Channel</th>\n",
       "      <th>Total Claim Amount</th>\n",
       "      <th>Vehicle Class</th>\n",
       "      <th>Vehicle Size</th>\n",
       "    </tr>\n",
       "  </thead>\n",
       "  <tbody>\n",
       "    <tr>\n",
       "      <th>0</th>\n",
       "      <td>BU79786</td>\n",
       "      <td>Washington</td>\n",
       "      <td>2763.519279</td>\n",
       "      <td>No</td>\n",
       "      <td>Basic</td>\n",
       "      <td>Bachelor</td>\n",
       "      <td>2/24/2011</td>\n",
       "      <td>Employed</td>\n",
       "      <td>F</td>\n",
       "      <td>56274</td>\n",
       "      <td>Suburban</td>\n",
       "      <td>Married</td>\n",
       "      <td>69</td>\n",
       "      <td>32</td>\n",
       "      <td>5</td>\n",
       "      <td>0</td>\n",
       "      <td>1</td>\n",
       "      <td>Corporate Auto</td>\n",
       "      <td>Corporate L3</td>\n",
       "      <td>Offer1</td>\n",
       "      <td>Agent</td>\n",
       "      <td>384.811147</td>\n",
       "      <td>Two-Door Car</td>\n",
       "      <td>Medsize</td>\n",
       "    </tr>\n",
       "    <tr>\n",
       "      <th>1</th>\n",
       "      <td>QZ44356</td>\n",
       "      <td>Arizona</td>\n",
       "      <td>6979.535903</td>\n",
       "      <td>No</td>\n",
       "      <td>Extended</td>\n",
       "      <td>Bachelor</td>\n",
       "      <td>1/31/2011</td>\n",
       "      <td>Unemployed</td>\n",
       "      <td>F</td>\n",
       "      <td>0</td>\n",
       "      <td>Suburban</td>\n",
       "      <td>Single</td>\n",
       "      <td>94</td>\n",
       "      <td>13</td>\n",
       "      <td>42</td>\n",
       "      <td>0</td>\n",
       "      <td>8</td>\n",
       "      <td>Personal Auto</td>\n",
       "      <td>Personal L3</td>\n",
       "      <td>Offer3</td>\n",
       "      <td>Agent</td>\n",
       "      <td>1131.464935</td>\n",
       "      <td>Four-Door Car</td>\n",
       "      <td>Medsize</td>\n",
       "    </tr>\n",
       "    <tr>\n",
       "      <th>2</th>\n",
       "      <td>AI49188</td>\n",
       "      <td>Nevada</td>\n",
       "      <td>12887.431650</td>\n",
       "      <td>No</td>\n",
       "      <td>Premium</td>\n",
       "      <td>Bachelor</td>\n",
       "      <td>2/19/2011</td>\n",
       "      <td>Employed</td>\n",
       "      <td>F</td>\n",
       "      <td>48767</td>\n",
       "      <td>Suburban</td>\n",
       "      <td>Married</td>\n",
       "      <td>108</td>\n",
       "      <td>18</td>\n",
       "      <td>38</td>\n",
       "      <td>0</td>\n",
       "      <td>2</td>\n",
       "      <td>Personal Auto</td>\n",
       "      <td>Personal L3</td>\n",
       "      <td>Offer1</td>\n",
       "      <td>Agent</td>\n",
       "      <td>566.472247</td>\n",
       "      <td>Two-Door Car</td>\n",
       "      <td>Medsize</td>\n",
       "    </tr>\n",
       "    <tr>\n",
       "      <th>3</th>\n",
       "      <td>WW63253</td>\n",
       "      <td>California</td>\n",
       "      <td>7645.861827</td>\n",
       "      <td>No</td>\n",
       "      <td>Basic</td>\n",
       "      <td>Bachelor</td>\n",
       "      <td>1/20/2011</td>\n",
       "      <td>Unemployed</td>\n",
       "      <td>M</td>\n",
       "      <td>0</td>\n",
       "      <td>Suburban</td>\n",
       "      <td>Married</td>\n",
       "      <td>106</td>\n",
       "      <td>18</td>\n",
       "      <td>65</td>\n",
       "      <td>0</td>\n",
       "      <td>7</td>\n",
       "      <td>Corporate Auto</td>\n",
       "      <td>Corporate L2</td>\n",
       "      <td>Offer1</td>\n",
       "      <td>Call Center</td>\n",
       "      <td>529.881344</td>\n",
       "      <td>SUV</td>\n",
       "      <td>Medsize</td>\n",
       "    </tr>\n",
       "    <tr>\n",
       "      <th>4</th>\n",
       "      <td>HB64268</td>\n",
       "      <td>Washington</td>\n",
       "      <td>2813.692575</td>\n",
       "      <td>No</td>\n",
       "      <td>Basic</td>\n",
       "      <td>Bachelor</td>\n",
       "      <td>2/3/2011</td>\n",
       "      <td>Employed</td>\n",
       "      <td>M</td>\n",
       "      <td>43836</td>\n",
       "      <td>Rural</td>\n",
       "      <td>Single</td>\n",
       "      <td>73</td>\n",
       "      <td>12</td>\n",
       "      <td>44</td>\n",
       "      <td>0</td>\n",
       "      <td>1</td>\n",
       "      <td>Personal Auto</td>\n",
       "      <td>Personal L1</td>\n",
       "      <td>Offer1</td>\n",
       "      <td>Agent</td>\n",
       "      <td>138.130879</td>\n",
       "      <td>Four-Door Car</td>\n",
       "      <td>Medsize</td>\n",
       "    </tr>\n",
       "  </tbody>\n",
       "</table>\n",
       "</div>"
      ],
      "text/plain": [
       "  Customer       State  Customer Lifetime Value Response  Coverage Education  \\\n",
       "0  BU79786  Washington              2763.519279       No     Basic  Bachelor   \n",
       "1  QZ44356     Arizona              6979.535903       No  Extended  Bachelor   \n",
       "2  AI49188      Nevada             12887.431650       No   Premium  Bachelor   \n",
       "3  WW63253  California              7645.861827       No     Basic  Bachelor   \n",
       "4  HB64268  Washington              2813.692575       No     Basic  Bachelor   \n",
       "\n",
       "  Effective To Date EmploymentStatus Gender  Income Location Code  \\\n",
       "0         2/24/2011         Employed      F   56274      Suburban   \n",
       "1         1/31/2011       Unemployed      F       0      Suburban   \n",
       "2         2/19/2011         Employed      F   48767      Suburban   \n",
       "3         1/20/2011       Unemployed      M       0      Suburban   \n",
       "4          2/3/2011         Employed      M   43836         Rural   \n",
       "\n",
       "  Marital Status  Monthly Premium Auto  Months Since Last Claim  \\\n",
       "0        Married                    69                       32   \n",
       "1         Single                    94                       13   \n",
       "2        Married                   108                       18   \n",
       "3        Married                   106                       18   \n",
       "4         Single                    73                       12   \n",
       "\n",
       "   Months Since Policy Inception  Number of Open Complaints  \\\n",
       "0                              5                          0   \n",
       "1                             42                          0   \n",
       "2                             38                          0   \n",
       "3                             65                          0   \n",
       "4                             44                          0   \n",
       "\n",
       "   Number of Policies     Policy Type        Policy Renew Offer Type  \\\n",
       "0                   1  Corporate Auto  Corporate L3           Offer1   \n",
       "1                   8   Personal Auto   Personal L3           Offer3   \n",
       "2                   2   Personal Auto   Personal L3           Offer1   \n",
       "3                   7  Corporate Auto  Corporate L2           Offer1   \n",
       "4                   1   Personal Auto   Personal L1           Offer1   \n",
       "\n",
       "  Sales Channel  Total Claim Amount  Vehicle Class Vehicle Size  \n",
       "0         Agent          384.811147   Two-Door Car      Medsize  \n",
       "1         Agent         1131.464935  Four-Door Car      Medsize  \n",
       "2         Agent          566.472247   Two-Door Car      Medsize  \n",
       "3   Call Center          529.881344            SUV      Medsize  \n",
       "4         Agent          138.130879  Four-Door Car      Medsize  "
      ]
     },
     "execution_count": 20,
     "metadata": {},
     "output_type": "execute_result"
    }
   ],
   "source": [
    "data = pd.read_csv('Insurance_Marketing-Customer-Value-Analysis.csv')\n",
    "data.head()"
   ]
  },
  {
   "cell_type": "markdown",
   "metadata": {},
   "source": [
    "# NULL VALUE'S CHECK."
   ]
  },
  {
   "cell_type": "code",
   "execution_count": 21,
   "metadata": {
    "ExecuteTime": {
     "end_time": "2020-01-18T14:41:26.042665Z",
     "start_time": "2020-01-18T14:41:25.972707Z"
    }
   },
   "outputs": [
    {
     "data": {
      "text/plain": [
       "Customer                         0\n",
       "State                            0\n",
       "Customer Lifetime Value          0\n",
       "Response                         0\n",
       "Coverage                         0\n",
       "Education                        0\n",
       "Effective To Date                0\n",
       "EmploymentStatus                 0\n",
       "Gender                           0\n",
       "Income                           0\n",
       "Location Code                    0\n",
       "Marital Status                   0\n",
       "Monthly Premium Auto             0\n",
       "Months Since Last Claim          0\n",
       "Months Since Policy Inception    0\n",
       "Number of Open Complaints        0\n",
       "Number of Policies               0\n",
       "Policy Type                      0\n",
       "Policy                           0\n",
       "Renew Offer Type                 0\n",
       "Sales Channel                    0\n",
       "Total Claim Amount               0\n",
       "Vehicle Class                    0\n",
       "Vehicle Size                     0\n",
       "dtype: int64"
      ]
     },
     "execution_count": 21,
     "metadata": {},
     "output_type": "execute_result"
    }
   ],
   "source": [
    "data.isnull().sum()"
   ]
  },
  {
   "cell_type": "markdown",
   "metadata": {},
   "source": [
    "# MEASURES OF CENTRAL TENDENCY."
   ]
  },
  {
   "cell_type": "code",
   "execution_count": 22,
   "metadata": {
    "ExecuteTime": {
     "end_time": "2020-01-18T14:41:31.702404Z",
     "start_time": "2020-01-18T14:41:31.329340Z"
    }
   },
   "outputs": [
    {
     "data": {
      "text/html": [
       "<div>\n",
       "<style scoped>\n",
       "    .dataframe tbody tr th:only-of-type {\n",
       "        vertical-align: middle;\n",
       "    }\n",
       "\n",
       "    .dataframe tbody tr th {\n",
       "        vertical-align: top;\n",
       "    }\n",
       "\n",
       "    .dataframe thead th {\n",
       "        text-align: right;\n",
       "    }\n",
       "</style>\n",
       "<table border=\"1\" class=\"dataframe\">\n",
       "  <thead>\n",
       "    <tr style=\"text-align: right;\">\n",
       "      <th></th>\n",
       "      <th>Customer Lifetime Value</th>\n",
       "      <th>Income</th>\n",
       "      <th>Monthly Premium Auto</th>\n",
       "      <th>Total Claim Amount</th>\n",
       "    </tr>\n",
       "  </thead>\n",
       "  <tbody>\n",
       "    <tr>\n",
       "      <th>count</th>\n",
       "      <td>9134.000000</td>\n",
       "      <td>9134.000000</td>\n",
       "      <td>9134.000000</td>\n",
       "      <td>9134.000000</td>\n",
       "    </tr>\n",
       "    <tr>\n",
       "      <th>mean</th>\n",
       "      <td>8004.940475</td>\n",
       "      <td>37657.380009</td>\n",
       "      <td>93.219291</td>\n",
       "      <td>434.088794</td>\n",
       "    </tr>\n",
       "    <tr>\n",
       "      <th>std</th>\n",
       "      <td>6870.967608</td>\n",
       "      <td>30379.904734</td>\n",
       "      <td>34.407967</td>\n",
       "      <td>290.500092</td>\n",
       "    </tr>\n",
       "    <tr>\n",
       "      <th>min</th>\n",
       "      <td>1898.007675</td>\n",
       "      <td>0.000000</td>\n",
       "      <td>61.000000</td>\n",
       "      <td>0.099007</td>\n",
       "    </tr>\n",
       "    <tr>\n",
       "      <th>25%</th>\n",
       "      <td>3994.251794</td>\n",
       "      <td>0.000000</td>\n",
       "      <td>68.000000</td>\n",
       "      <td>272.258244</td>\n",
       "    </tr>\n",
       "    <tr>\n",
       "      <th>50%</th>\n",
       "      <td>5780.182197</td>\n",
       "      <td>33889.500000</td>\n",
       "      <td>83.000000</td>\n",
       "      <td>383.945434</td>\n",
       "    </tr>\n",
       "    <tr>\n",
       "      <th>75%</th>\n",
       "      <td>8962.167041</td>\n",
       "      <td>62320.000000</td>\n",
       "      <td>109.000000</td>\n",
       "      <td>547.514839</td>\n",
       "    </tr>\n",
       "    <tr>\n",
       "      <th>max</th>\n",
       "      <td>83325.381190</td>\n",
       "      <td>99981.000000</td>\n",
       "      <td>298.000000</td>\n",
       "      <td>2893.239678</td>\n",
       "    </tr>\n",
       "  </tbody>\n",
       "</table>\n",
       "</div>"
      ],
      "text/plain": [
       "       Customer Lifetime Value        Income  Monthly Premium Auto  \\\n",
       "count              9134.000000   9134.000000           9134.000000   \n",
       "mean               8004.940475  37657.380009             93.219291   \n",
       "std                6870.967608  30379.904734             34.407967   \n",
       "min                1898.007675      0.000000             61.000000   \n",
       "25%                3994.251794      0.000000             68.000000   \n",
       "50%                5780.182197  33889.500000             83.000000   \n",
       "75%                8962.167041  62320.000000            109.000000   \n",
       "max               83325.381190  99981.000000            298.000000   \n",
       "\n",
       "       Total Claim Amount  \n",
       "count         9134.000000  \n",
       "mean           434.088794  \n",
       "std            290.500092  \n",
       "min              0.099007  \n",
       "25%            272.258244  \n",
       "50%            383.945434  \n",
       "75%            547.514839  \n",
       "max           2893.239678  "
      ]
     },
     "execution_count": 22,
     "metadata": {},
     "output_type": "execute_result"
    }
   ],
   "source": [
    "data[['Customer Lifetime Value','Income','Monthly Premium Auto','Total Claim Amount']].describe()"
   ]
  },
  {
   "cell_type": "markdown",
   "metadata": {},
   "source": [
    "# SHAPE OFTHE DATA SET."
   ]
  },
  {
   "cell_type": "code",
   "execution_count": 23,
   "metadata": {
    "ExecuteTime": {
     "end_time": "2020-01-18T14:41:35.008706Z",
     "start_time": "2020-01-18T14:41:34.998714Z"
    }
   },
   "outputs": [
    {
     "data": {
      "text/plain": [
       "(9134, 24)"
      ]
     },
     "execution_count": 23,
     "metadata": {},
     "output_type": "execute_result"
    }
   ],
   "source": [
    "data.shape"
   ]
  },
  {
   "cell_type": "markdown",
   "metadata": {},
   "source": [
    "# DATA VISUALIZATION AND INFERENCES."
   ]
  },
  {
   "cell_type": "markdown",
   "metadata": {},
   "source": [
    "#### UNI-VARIATE ANALYSIS"
   ]
  },
  {
   "cell_type": "code",
   "execution_count": 24,
   "metadata": {
    "ExecuteTime": {
     "end_time": "2020-01-18T14:41:51.863760Z",
     "start_time": "2020-01-18T14:41:48.610357Z"
    }
   },
   "outputs": [
    {
     "data": {
      "image/png": "[encoded data removed]",
      "text/plain": [
       "<Figure size 432x288 with 1 Axes>"
      ]
     },
     "metadata": {
      "needs_background": "light"
     },
     "output_type": "display_data"
    }
   ],
   "source": [
    "sns.boxplot(data['Income'])\n",
    "plt.show()"
   ]
  },
  {
   "cell_type": "code",
   "execution_count": 25,
   "metadata": {
    "ExecuteTime": {
     "end_time": "2020-01-18T14:41:56.545402Z",
     "start_time": "2020-01-18T14:41:56.354514Z"
    }
   },
   "outputs": [
    {
     "data": {
      "image/png": "[encoded data removed]",
      "text/plain": [
       "<Figure size 432x288 with 1 Axes>"
      ]
     },
     "metadata": {
      "needs_background": "light"
     },
     "output_type": "display_data"
    }
   ],
   "source": [
    "sns.boxplot(data['Monthly Premium Auto'])\n",
    "plt.show()"
   ]
  },
  {
   "cell_type": "code",
   "execution_count": 26,
   "metadata": {
    "ExecuteTime": {
     "end_time": "2020-01-18T14:41:57.915394Z",
     "start_time": "2020-01-18T14:41:57.727502Z"
    }
   },
   "outputs": [
    {
     "data": {
      "image/png": "[encoded data removed]",
      "text/plain": [
       "<Figure size 432x288 with 1 Axes>"
      ]
     },
     "metadata": {
      "needs_background": "light"
     },
     "output_type": "display_data"
    }
   ],
   "source": [
    "sns.boxplot(data['Total Claim Amount'])\n",
    "plt.show()"
   ]
  },
  {
   "cell_type": "markdown",
   "metadata": {},
   "source": [
    "As we can see that there are outlier's in the total claim amount feature and also the income feature, the general trend is to remove the outlier's are a better model , since our DOMAIN is related to insurance and banking industry, we must be accepting the outlier's as they are the potential high revenue making customer's.\n",
    "And there are no outlier's in the income feature.\n",
    "Conclusion: WE ARE NOT DOING ANY OUTLIER TREATMENT."
   ]
  },
  {
   "cell_type": "code",
   "execution_count": 27,
   "metadata": {
    "ExecuteTime": {
     "end_time": "2020-01-18T14:42:00.164663Z",
     "start_time": "2020-01-18T14:41:59.410971Z"
    }
   },
   "outputs": [
    {
     "data": {
      "image/png": "[encoded data removed]",
      "text/plain": [
       "<Figure size 432x288 with 1 Axes>"
      ]
     },
     "metadata": {
      "needs_background": "light"
     },
     "output_type": "display_data"
    }
   ],
   "source": [
    "sns.distplot(data['Income'])\n",
    "plt.show()"
   ]
  },
  {
   "cell_type": "code",
   "execution_count": 28,
   "metadata": {
    "ExecuteTime": {
     "end_time": "2020-01-18T14:42:01.113787Z",
     "start_time": "2020-01-18T14:42:00.635062Z"
    }
   },
   "outputs": [
    {
     "data": {
      "image/png": "[encoded data removed]",
      "text/plain": [
       "<Figure size 432x288 with 1 Axes>"
      ]
     },
     "metadata": {
      "needs_background": "light"
     },
     "output_type": "display_data"
    }
   ],
   "source": [
    "sns.distplot(data['Monthly Premium Auto'])\n",
    "plt.show()"
   ]
  },
  {
   "cell_type": "code",
   "execution_count": 29,
   "metadata": {
    "ExecuteTime": {
     "end_time": "2020-01-18T14:42:02.191515Z",
     "start_time": "2020-01-18T14:42:01.695804Z"
    }
   },
   "outputs": [
    {
     "data": {
      "image/png": "[encoded data removed]",
      "text/plain": [
       "<Figure size 432x288 with 1 Axes>"
      ]
     },
     "metadata": {
      "needs_background": "light"
     },
     "output_type": "display_data"
    }
   ],
   "source": [
    "sns.distplot(data['Total Claim Amount'])\n",
    "plt.show()"
   ]
  },
  {
   "cell_type": "markdown",
   "metadata": {},
   "source": [
    "As we can see that none of the continuous features are normally distributed, no matter what distribution a particular feature tend's to follow we as data analyst, we are inclined to make it normal, but there is a possible chance that the feature may follow some other distribution, So in our case , we want to make the distribution's normal, we can apply some transformation's to the data and see if we can achieve a normally distributed feature."
   ]
  },
  {
   "cell_type": "markdown",
   "metadata": {},
   "source": [
    "#### TRANSFORMATION OF THE NUMERICAL FEATURES"
   ]
  },
  {
   "cell_type": "code",
   "execution_count": 30,
   "metadata": {
    "ExecuteTime": {
     "end_time": "2020-01-18T14:42:05.213280Z",
     "start_time": "2020-01-18T14:42:04.299063Z"
    }
   },
   "outputs": [
    {
     "data": {
      "image/png": "[encoded data removed]",
      "text/plain": [
       "<Figure size 432x288 with 1 Axes>"
      ]
     },
     "metadata": {
      "needs_background": "light"
     },
     "output_type": "display_data"
    }
   ],
   "source": [
    "sns.distplot(data['Income']**2)\n",
    "plt.show()"
   ]
  },
  {
   "cell_type": "code",
   "execution_count": 31,
   "metadata": {
    "ExecuteTime": {
     "end_time": "2020-01-18T14:42:06.466776Z",
     "start_time": "2020-01-18T14:42:06.176943Z"
    }
   },
   "outputs": [
    {
     "data": {
      "image/png": "[encoded data removed]",
      "text/plain": [
       "<Figure size 432x288 with 1 Axes>"
      ]
     },
     "metadata": {
      "needs_background": "light"
     },
     "output_type": "display_data"
    }
   ],
   "source": [
    "sns.distplot(data['Income']**(1/2))\n",
    "plt.show()"
   ]
  },
  {
   "cell_type": "markdown",
   "metadata": {},
   "source": [
    "As we can see that while we are trying to transform the data to make it normal,rather the distribution is getting skewed, or is having multiple peaks which again is a problem to our model, hence we just stick with the same distribution of the feature."
   ]
  },
  {
   "cell_type": "code",
   "execution_count": 32,
   "metadata": {
    "ExecuteTime": {
     "end_time": "2020-01-18T14:42:08.272755Z",
     "start_time": "2020-01-18T14:42:07.896970Z"
    }
   },
   "outputs": [
    {
     "data": {
      "image/png": "[encoded data removed]",
      "text/plain": [
       "<Figure size 432x288 with 1 Axes>"
      ]
     },
     "metadata": {
      "needs_background": "light"
     },
     "output_type": "display_data"
    }
   ],
   "source": [
    "sns.distplot(data['Monthly Premium Auto']**(2))\n",
    "plt.show()"
   ]
  },
  {
   "cell_type": "markdown",
   "metadata": {},
   "source": [
    "The monthly premium auto feature has multiple peak's so to remove those peaks we can apply any of the power transformation (SQUARE / CUBE) but as we can see that after the square transformation the data is getting heavily skewed, so we stick with the actual distribution again."
   ]
  },
  {
   "cell_type": "code",
   "execution_count": 33,
   "metadata": {
    "ExecuteTime": {
     "end_time": "2020-01-18T14:42:10.277310Z",
     "start_time": "2020-01-18T14:42:09.510812Z"
    }
   },
   "outputs": [
    {
     "data": {
      "image/png": "[encoded data removed]",
      "text/plain": [
       "<Figure size 432x288 with 1 Axes>"
      ]
     },
     "metadata": {
      "needs_background": "light"
     },
     "output_type": "display_data"
    }
   ],
   "source": [
    "sns.distplot(data['Total Claim Amount']**2)\n",
    "plt.show()"
   ]
  },
  {
   "cell_type": "markdown",
   "metadata": {},
   "source": [
    "Again for the total claim amount after applying the transformation's the data is getting skewed, and hence we stick to the actual distibution of the data."
   ]
  },
  {
   "cell_type": "markdown",
   "metadata": {},
   "source": [
    "Conclusion: No matter what power transformation we are applying to the numerical features, it is still not getting normally distributed, and moreover the data is getting skewed, so rather we will just stick with the actual distribution of the feature in our model building."
   ]
  },
  {
   "cell_type": "code",
   "execution_count": 34,
   "metadata": {
    "ExecuteTime": {
     "end_time": "2020-01-18T14:42:13.073482Z",
     "start_time": "2020-01-18T14:42:12.274196Z"
    }
   },
   "outputs": [
    {
     "data": {
      "image/png": "[encoded data removed]",
      "text/plain": [
       "<Figure size 432x288 with 1 Axes>"
      ]
     },
     "metadata": {
      "needs_background": "light"
     },
     "output_type": "display_data"
    }
   ],
   "source": [
    "sns.barplot(x = 'Location Code',y='Customer Lifetime Value',data = data)\n",
    "plt.show()"
   ]
  },
  {
   "cell_type": "markdown",
   "metadata": {},
   "source": [
    "The average customer lifetime value of the customer who stay in different location code's is the same so while creating the model we can dis regard the feature."
   ]
  },
  {
   "cell_type": "code",
   "execution_count": 35,
   "metadata": {
    "ExecuteTime": {
     "end_time": "2020-01-18T14:42:15.144827Z",
     "start_time": "2020-01-18T14:42:14.582152Z"
    }
   },
   "outputs": [
    {
     "data": {
      "image/png": "[encoded data removed]",
      "text/plain": [
       "<Figure size 432x288 with 1 Axes>"
      ]
     },
     "metadata": {
      "needs_background": "light"
     },
     "output_type": "display_data"
    }
   ],
   "source": [
    "sns.barplot(x = 'State',y='Customer Lifetime Value',data = data)\n",
    "plt.show()"
   ]
  },
  {
   "cell_type": "markdown",
   "metadata": {},
   "source": [
    "The average customer lifetime value of the customer who stay in different state is the same so while creating the model we can dis regard the feature."
   ]
  },
  {
   "cell_type": "code",
   "execution_count": 36,
   "metadata": {
    "ExecuteTime": {
     "end_time": "2020-01-18T14:42:16.994830Z",
     "start_time": "2020-01-18T14:42:16.571077Z"
    }
   },
   "outputs": [
    {
     "data": {
      "image/png": "[encoded data removed]",
      "text/plain": [
       "<Figure size 432x288 with 1 Axes>"
      ]
     },
     "metadata": {
      "needs_background": "light"
     },
     "output_type": "display_data"
    }
   ],
   "source": [
    "sns.barplot(x = 'Response',y='Customer Lifetime Value',data = data)\n",
    "plt.show()"
   ]
  },
  {
   "cell_type": "markdown",
   "metadata": {},
   "source": [
    "It doesn't matter if the customer take's the marketing call, or he doesn't as the average customer lifetime value for both of them is the same."
   ]
  },
  {
   "cell_type": "code",
   "execution_count": 37,
   "metadata": {
    "ExecuteTime": {
     "end_time": "2020-01-18T14:42:18.620748Z",
     "start_time": "2020-01-18T14:42:18.083057Z"
    }
   },
   "outputs": [
    {
     "data": {
      "image/png": "[encoded data removed]",
      "text/plain": [
       "<Figure size 432x288 with 1 Axes>"
      ]
     },
     "metadata": {
      "needs_background": "light"
     },
     "output_type": "display_data"
    }
   ],
   "source": [
    "sns.barplot(x = 'Gender',y='Customer Lifetime Value',data = data)\n",
    "plt.show()"
   ]
  },
  {
   "cell_type": "markdown",
   "metadata": {},
   "source": [
    "Our model , is not biased based on gender, but still we can see that the average customer lifetime value is the same for both male and female."
   ]
  },
  {
   "cell_type": "code",
   "execution_count": 38,
   "metadata": {
    "ExecuteTime": {
     "end_time": "2020-01-18T14:42:19.676724Z",
     "start_time": "2020-01-18T14:42:19.101062Z"
    }
   },
   "outputs": [
    {
     "data": {
      "image/png": "[encoded data removed]",
      "text/plain": [
       "<Figure size 432x288 with 1 Axes>"
      ]
     },
     "metadata": {
      "needs_background": "light"
     },
     "output_type": "display_data"
    }
   ],
   "source": [
    "sns.barplot(x = 'Education',y='Customer Lifetime Value',data = data)\n",
    "plt.xticks(rotation=45)\n",
    "plt.show()"
   ]
  },
  {
   "cell_type": "markdown",
   "metadata": {},
   "source": [
    "We can also see that education is not a significant feature for assesing the lifetime value of the customer."
   ]
  },
  {
   "cell_type": "code",
   "execution_count": 39,
   "metadata": {
    "ExecuteTime": {
     "end_time": "2020-01-18T14:42:23.706844Z",
     "start_time": "2020-01-18T14:42:22.889433Z"
    }
   },
   "outputs": [
    {
     "data": {
      "image/png": "[encoded data removed]",
      "text/plain": [
       "<Figure size 432x288 with 1 Axes>"
      ]
     },
     "metadata": {
      "needs_background": "light"
     },
     "output_type": "display_data"
    }
   ],
   "source": [
    "sns.barplot(x = 'Number of Policies',y='Customer Lifetime Value',data = data)\n",
    "plt.show()"
   ]
  },
  {
   "cell_type": "markdown",
   "metadata": {},
   "source": [
    "We can see a pattern here, customer's who have taken only 1 policy have lower customer lifetime value, and customer's who have taken 3 or greater show a similar trend, so we can bin all the customer who have taken number of policies 3 or greater into one bin, and suprisingly we can also see that the customer's who have taken 2 policies have very high customer lifetime value comparitively, which is challenging part to answer why, domain knowledge is much required here."
   ]
  },
  {
   "cell_type": "code",
   "execution_count": 40,
   "metadata": {
    "ExecuteTime": {
     "end_time": "2020-01-18T14:42:25.701349Z",
     "start_time": "2020-01-18T14:42:25.268598Z"
    }
   },
   "outputs": [
    {
     "data": {
      "image/png": "[encoded data removed]",
      "text/plain": [
       "<Figure size 432x288 with 1 Axes>"
      ]
     },
     "metadata": {
      "needs_background": "light"
     },
     "output_type": "display_data"
    }
   ],
   "source": [
    "sns.barplot(x = 'Policy Type',y='Customer Lifetime Value',data = data)\n",
    "plt.xticks(rotation = 90)\n",
    "plt.show()"
   ]
  },
  {
   "cell_type": "markdown",
   "metadata": {},
   "source": [
    "There isn't much difference in the customer lifetime value W.R.T what policy type he has taken, all we need is how much revenue a customer can bring to the company, so it doesnt matter what type of policy he/she has chosen."
   ]
  },
  {
   "cell_type": "code",
   "execution_count": 41,
   "metadata": {
    "ExecuteTime": {
     "end_time": "2020-01-18T14:42:27.543631Z",
     "start_time": "2020-01-18T14:42:27.071887Z"
    }
   },
   "outputs": [
    {
     "data": {
      "image/png": "[encoded data removed]",
      "text/plain": [
       "<Figure size 432x288 with 1 Axes>"
      ]
     },
     "metadata": {
      "needs_background": "light"
     },
     "output_type": "display_data"
    }
   ],
   "source": [
    "sns.barplot(x = 'Coverage',y='Customer Lifetime Value',data = data)\n",
    "plt.show()"
   ]
  },
  {
   "cell_type": "markdown",
   "metadata": {},
   "source": [
    "Customer Lifetime Value is different for different coverage, as we can also see that visually which make's sense, better the coverage better the monthly premium amount a custoemr pay's , better the revenue from that particular customer."
   ]
  },
  {
   "cell_type": "code",
   "execution_count": 42,
   "metadata": {
    "ExecuteTime": {
     "end_time": "2020-01-18T14:42:29.516351Z",
     "start_time": "2020-01-18T14:42:28.940276Z"
    }
   },
   "outputs": [
    {
     "data": {
      "image/png": "[encoded data removed]",
      "text/plain": [
       "<Figure size 432x288 with 1 Axes>"
      ]
     },
     "metadata": {
      "needs_background": "light"
     },
     "output_type": "display_data"
    }
   ],
   "source": [
    "sns.barplot(x = 'Number of Open Complaints',y='Customer Lifetime Value',data = data)\n",
    "plt.show()"
   ]
  },
  {
   "cell_type": "markdown",
   "metadata": {},
   "source": [
    "Number of open complaint's also show kind of similar trend, where people who have complaints 2 or lesser have a similar pattern but where as >3 do not show any pattern we will have to do statistical test's to understand if this feature is really significant or it isn't."
   ]
  },
  {
   "cell_type": "code",
   "execution_count": 43,
   "metadata": {
    "ExecuteTime": {
     "end_time": "2020-01-18T14:42:32.171615Z",
     "start_time": "2020-01-18T14:42:31.053869Z"
    }
   },
   "outputs": [
    {
     "data": {
      "image/png": "[encoded data removed]",
      "text/plain": [
       "<Figure size 540x180 with 3 Axes>"
      ]
     },
     "metadata": {
      "needs_background": "light"
     },
     "output_type": "display_data"
    }
   ],
   "source": [
    "sns.pairplot(y_vars='Customer Lifetime Value',x_vars=['Income','Monthly Premium Auto','Total Claim Amount'],data = data)\n",
    "plt.show()"
   ]
  },
  {
   "cell_type": "markdown",
   "metadata": {},
   "source": [
    "We can clearly see that there is a linear relationship between Customer lifetime value and monthly premium auto, but we do not see any relationshio between income and the total claim amount."
   ]
  },
  {
   "cell_type": "code",
   "execution_count": 44,
   "metadata": {
    "ExecuteTime": {
     "end_time": "2020-01-18T14:42:34.047613Z",
     "start_time": "2020-01-18T14:42:33.619858Z"
    }
   },
   "outputs": [
    {
     "data": {
      "image/png": "[encoded data removed]",
      "text/plain": [
       "<Figure size 432x288 with 2 Axes>"
      ]
     },
     "metadata": {
      "needs_background": "light"
     },
     "output_type": "display_data"
    }
   ],
   "source": [
    "sns.heatmap(data[['Customer Lifetime Value','Monthly Premium Auto','Income','Total Claim Amount']].corr(),annot = True)\n",
    "plt.show()"
   ]
  },
  {
   "cell_type": "markdown",
   "metadata": {},
   "source": [
    "And we can clearly see in the co relation map, that customer lifetime value has a better co relation with monthly premium auto and acceptable co relation with total claim amount, but it show's no relationship with income, so again with all the visualization's we can come to the conclusion that we can dis regard the INCOME feature."
   ]
  },
  {
   "cell_type": "markdown",
   "metadata": {},
   "source": [
    "# BASE MODEL USING OLS."
   ]
  },
  {
   "cell_type": "markdown",
   "metadata": {},
   "source": [
    "#### Using label encoding just for the purpose of looking at the base model, encoding technique's may change furthur(one-hot encoding is used)"
   ]
  },
  {
   "cell_type": "code",
   "execution_count": 45,
   "metadata": {
    "ExecuteTime": {
     "end_time": "2020-01-18T14:42:37.247494Z",
     "start_time": "2020-01-18T14:42:37.087576Z"
    }
   },
   "outputs": [],
   "source": [
    "cols = data.select_dtypes(object).columns\n",
    "for i in cols:\n",
    "    data[i] = le.fit_transform(data[i])"
   ]
  },
  {
   "cell_type": "code",
   "execution_count": 46,
   "metadata": {
    "ExecuteTime": {
     "end_time": "2020-01-18T14:42:38.142048Z",
     "start_time": "2020-01-18T14:42:38.106055Z"
    }
   },
   "outputs": [],
   "source": [
    "X = data.drop('Customer Lifetime Value',axis=1)\n",
    "y = data['Customer Lifetime Value']"
   ]
  },
  {
   "cell_type": "code",
   "execution_count": 47,
   "metadata": {
    "ExecuteTime": {
     "end_time": "2020-01-18T14:42:40.292714Z",
     "start_time": "2020-01-18T14:42:39.008313Z"
    }
   },
   "outputs": [
    {
     "data": {
      "text/html": [
       "<table class=\"simpletable\">\n",
       "<caption>OLS Regression Results</caption>\n",
       "<tr>\n",
       "  <th>Dep. Variable:</th>    <td>Customer Lifetime Value</td> <th>  R-squared:         </th> <td>   0.166</td> \n",
       "</tr>\n",
       "<tr>\n",
       "  <th>Model:</th>                      <td>OLS</td>           <th>  Adj. R-squared:    </th> <td>   0.164</td> \n",
       "</tr>\n",
       "<tr>\n",
       "  <th>Method:</th>                <td>Least Squares</td>      <th>  F-statistic:       </th> <td>   78.97</td> \n",
       "</tr>\n",
       "<tr>\n",
       "  <th>Date:</th>                <td>Sat, 18 Jan 2020</td>     <th>  Prob (F-statistic):</th>  <td>  0.00</td>  \n",
       "</tr>\n",
       "<tr>\n",
       "  <th>Time:</th>                    <td>20:12:40</td>         <th>  Log-Likelihood:    </th> <td> -92829.</td> \n",
       "</tr>\n",
       "<tr>\n",
       "  <th>No. Observations:</th>         <td>  9134</td>          <th>  AIC:               </th> <td>1.857e+05</td>\n",
       "</tr>\n",
       "<tr>\n",
       "  <th>Df Residuals:</th>             <td>  9110</td>          <th>  BIC:               </th> <td>1.859e+05</td>\n",
       "</tr>\n",
       "<tr>\n",
       "  <th>Df Model:</th>                 <td>    23</td>          <th>                     </th>     <td> </td>    \n",
       "</tr>\n",
       "<tr>\n",
       "  <th>Covariance Type:</th>         <td>nonrobust</td>        <th>                     </th>     <td> </td>    \n",
       "</tr>\n",
       "</table>\n",
       "<table class=\"simpletable\">\n",
       "<tr>\n",
       "                <td></td>                   <th>coef</th>     <th>std err</th>      <th>t</th>      <th>P>|t|</th>  <th>[0.025</th>    <th>0.975]</th>  \n",
       "</tr>\n",
       "<tr>\n",
       "  <th>const</th>                         <td> 1071.0909</td> <td>  499.588</td> <td>    2.144</td> <td> 0.032</td> <td>   91.786</td> <td> 2050.396</td>\n",
       "</tr>\n",
       "<tr>\n",
       "  <th>Customer</th>                      <td>   -0.0768</td> <td>    0.025</td> <td>   -3.078</td> <td> 0.002</td> <td>   -0.126</td> <td>   -0.028</td>\n",
       "</tr>\n",
       "<tr>\n",
       "  <th>State</th>                         <td>   30.1424</td> <td>   51.092</td> <td>    0.590</td> <td> 0.555</td> <td>  -70.010</td> <td>  130.294</td>\n",
       "</tr>\n",
       "<tr>\n",
       "  <th>Response</th>                      <td> -450.2135</td> <td>  192.547</td> <td>   -2.338</td> <td> 0.019</td> <td> -827.648</td> <td>  -72.779</td>\n",
       "</tr>\n",
       "<tr>\n",
       "  <th>Coverage</th>                      <td> -186.3677</td> <td>  113.640</td> <td>   -1.640</td> <td> 0.101</td> <td> -409.127</td> <td>   36.392</td>\n",
       "</tr>\n",
       "<tr>\n",
       "  <th>Education</th>                     <td>   93.8688</td> <td>   47.764</td> <td>    1.965</td> <td> 0.049</td> <td>    0.241</td> <td>  187.496</td>\n",
       "</tr>\n",
       "<tr>\n",
       "  <th>Effective To Date</th>             <td>   -6.6838</td> <td>    3.869</td> <td>   -1.727</td> <td> 0.084</td> <td>  -14.268</td> <td>    0.901</td>\n",
       "</tr>\n",
       "<tr>\n",
       "  <th>EmploymentStatus</th>              <td> -105.0512</td> <td>   73.564</td> <td>   -1.428</td> <td> 0.153</td> <td> -249.252</td> <td>   39.150</td>\n",
       "</tr>\n",
       "<tr>\n",
       "  <th>Gender</th>                        <td> -140.1122</td> <td>  132.592</td> <td>   -1.057</td> <td> 0.291</td> <td> -400.022</td> <td>  119.797</td>\n",
       "</tr>\n",
       "<tr>\n",
       "  <th>Income</th>                        <td>    0.0021</td> <td>    0.003</td> <td>    0.659</td> <td> 0.510</td> <td>   -0.004</td> <td>    0.009</td>\n",
       "</tr>\n",
       "<tr>\n",
       "  <th>Location Code</th>                 <td>  109.2173</td> <td>  116.530</td> <td>    0.937</td> <td> 0.349</td> <td> -119.207</td> <td>  337.641</td>\n",
       "</tr>\n",
       "<tr>\n",
       "  <th>Marital Status</th>                <td> -240.8148</td> <td>  110.614</td> <td>   -2.177</td> <td> 0.030</td> <td> -457.644</td> <td>  -23.986</td>\n",
       "</tr>\n",
       "<tr>\n",
       "  <th>Monthly Premium Auto</th>          <td>   82.7641</td> <td>    2.923</td> <td>   28.315</td> <td> 0.000</td> <td>   77.034</td> <td>   88.494</td>\n",
       "</tr>\n",
       "<tr>\n",
       "  <th>Months Since Last Claim</th>       <td>    6.9809</td> <td>    6.543</td> <td>    1.067</td> <td> 0.286</td> <td>   -5.845</td> <td>   19.807</td>\n",
       "</tr>\n",
       "<tr>\n",
       "  <th>Months Since Policy Inception</th> <td>   -0.8089</td> <td>    2.372</td> <td>   -0.341</td> <td> 0.733</td> <td>   -5.459</td> <td>    3.841</td>\n",
       "</tr>\n",
       "<tr>\n",
       "  <th>Number of Open Complaints</th>     <td> -251.7392</td> <td>   72.327</td> <td>   -3.481</td> <td> 0.001</td> <td> -393.516</td> <td> -109.963</td>\n",
       "</tr>\n",
       "<tr>\n",
       "  <th>Number of Policies</th>            <td>   64.1685</td> <td>   27.648</td> <td>    2.321</td> <td> 0.020</td> <td>    9.971</td> <td>  118.366</td>\n",
       "</tr>\n",
       "<tr>\n",
       "  <th>Policy Type</th>                   <td>  439.8934</td> <td>  290.903</td> <td>    1.512</td> <td> 0.131</td> <td> -130.343</td> <td> 1010.129</td>\n",
       "</tr>\n",
       "<tr>\n",
       "  <th>Policy</th>                        <td>  -48.3025</td> <td>   86.215</td> <td>   -0.560</td> <td> 0.575</td> <td> -217.303</td> <td>  120.698</td>\n",
       "</tr>\n",
       "<tr>\n",
       "  <th>Renew Offer Type</th>              <td> -349.4798</td> <td>   68.455</td> <td>   -5.105</td> <td> 0.000</td> <td> -483.668</td> <td> -215.292</td>\n",
       "</tr>\n",
       "<tr>\n",
       "  <th>Sales Channel</th>                 <td>   20.8988</td> <td>   62.267</td> <td>    0.336</td> <td> 0.737</td> <td> -101.158</td> <td>  142.956</td>\n",
       "</tr>\n",
       "<tr>\n",
       "  <th>Total Claim Amount</th>            <td>   -0.5866</td> <td>    0.362</td> <td>   -1.621</td> <td> 0.105</td> <td>   -1.296</td> <td>    0.123</td>\n",
       "</tr>\n",
       "<tr>\n",
       "  <th>Vehicle Class</th>                 <td>   44.8664</td> <td>   32.409</td> <td>    1.384</td> <td> 0.166</td> <td>  -18.663</td> <td>  108.396</td>\n",
       "</tr>\n",
       "<tr>\n",
       "  <th>Vehicle Size</th>                  <td>  187.8871</td> <td>  123.302</td> <td>    1.524</td> <td> 0.128</td> <td>  -53.813</td> <td>  429.587</td>\n",
       "</tr>\n",
       "</table>\n",
       "<table class=\"simpletable\">\n",
       "<tr>\n",
       "  <th>Omnibus:</th>       <td>5656.816</td> <th>  Durbin-Watson:     </th> <td>   1.997</td> \n",
       "</tr>\n",
       "<tr>\n",
       "  <th>Prob(Omnibus):</th>  <td> 0.000</td>  <th>  Jarque-Bera (JB):  </th> <td>64358.326</td>\n",
       "</tr>\n",
       "<tr>\n",
       "  <th>Skew:</th>           <td> 2.847</td>  <th>  Prob(JB):          </th> <td>    0.00</td> \n",
       "</tr>\n",
       "<tr>\n",
       "  <th>Kurtosis:</th>       <td>14.692</td>  <th>  Cond. No.          </th> <td>3.74e+05</td> \n",
       "</tr>\n",
       "</table><br/><br/>Warnings:<br/>[1] Standard Errors assume that the covariance matrix of the errors is correctly specified.<br/>[2] The condition number is large, 3.74e+05. This might indicate that there are<br/>strong multicollinearity or other numerical problems."
      ],
      "text/plain": [
       "<class 'statsmodels.iolib.summary.Summary'>\n",
       "\"\"\"\n",
       "                               OLS Regression Results                              \n",
       "===================================================================================\n",
       "Dep. Variable:     Customer Lifetime Value   R-squared:                       0.166\n",
       "Model:                                 OLS   Adj. R-squared:                  0.164\n",
       "Method:                      Least Squares   F-statistic:                     78.97\n",
       "Date:                     Sat, 18 Jan 2020   Prob (F-statistic):               0.00\n",
       "Time:                             20:12:40   Log-Likelihood:                -92829.\n",
       "No. Observations:                     9134   AIC:                         1.857e+05\n",
       "Df Residuals:                         9110   BIC:                         1.859e+05\n",
       "Df Model:                               23                                         \n",
       "Covariance Type:                 nonrobust                                         \n",
       "=================================================================================================\n",
       "                                    coef    std err          t      P>|t|      [0.025      0.975]\n",
       "-------------------------------------------------------------------------------------------------\n",
       "const                          1071.0909    499.588      2.144      0.032      91.786    2050.396\n",
       "Customer                         -0.0768      0.025     -3.078      0.002      -0.126      -0.028\n",
       "State                            30.1424     51.092      0.590      0.555     -70.010     130.294\n",
       "Response                       -450.2135    192.547     -2.338      0.019    -827.648     -72.779\n",
       "Coverage                       -186.3677    113.640     -1.640      0.101    -409.127      36.392\n",
       "Education                        93.8688     47.764      1.965      0.049       0.241     187.496\n",
       "Effective To Date                -6.6838      3.869     -1.727      0.084     -14.268       0.901\n",
       "EmploymentStatus               -105.0512     73.564     -1.428      0.153    -249.252      39.150\n",
       "Gender                         -140.1122    132.592     -1.057      0.291    -400.022     119.797\n",
       "Income                            0.0021      0.003      0.659      0.510      -0.004       0.009\n",
       "Location Code                   109.2173    116.530      0.937      0.349    -119.207     337.641\n",
       "Marital Status                 -240.8148    110.614     -2.177      0.030    -457.644     -23.986\n",
       "Monthly Premium Auto             82.7641      2.923     28.315      0.000      77.034      88.494\n",
       "Months Since Last Claim           6.9809      6.543      1.067      0.286      -5.845      19.807\n",
       "Months Since Policy Inception    -0.8089      2.372     -0.341      0.733      -5.459       3.841\n",
       "Number of Open Complaints      -251.7392     72.327     -3.481      0.001    -393.516    -109.963\n",
       "Number of Policies               64.1685     27.648      2.321      0.020       9.971     118.366\n",
       "Policy Type                     439.8934    290.903      1.512      0.131    -130.343    1010.129\n",
       "Policy                          -48.3025     86.215     -0.560      0.575    -217.303     120.698\n",
       "Renew Offer Type               -349.4798     68.455     -5.105      0.000    -483.668    -215.292\n",
       "Sales Channel                    20.8988     62.267      0.336      0.737    -101.158     142.956\n",
       "Total Claim Amount               -0.5866      0.362     -1.621      0.105      -1.296       0.123\n",
       "Vehicle Class                    44.8664     32.409      1.384      0.166     -18.663     108.396\n",
       "Vehicle Size                    187.8871    123.302      1.524      0.128     -53.813     429.587\n",
       "==============================================================================\n",
       "Omnibus:                     5656.816   Durbin-Watson:                   1.997\n",
       "Prob(Omnibus):                  0.000   Jarque-Bera (JB):            64358.326\n",
       "Skew:                           2.847   Prob(JB):                         0.00\n",
       "Kurtosis:                      14.692   Cond. No.                     3.74e+05\n",
       "==============================================================================\n",
       "\n",
       "Warnings:\n",
       "[1] Standard Errors assume that the covariance matrix of the errors is correctly specified.\n",
       "[2] The condition number is large, 3.74e+05. This might indicate that there are\n",
       "strong multicollinearity or other numerical problems.\n",
       "\"\"\""
      ]
     },
     "execution_count": 47,
     "metadata": {},
     "output_type": "execute_result"
    }
   ],
   "source": [
    "X_sm = X\n",
    "X_sm = sm.add_constant(X_sm)\n",
    "lm = sm.OLS(y,X_sm).fit()\n",
    "lm.summary()"
   ]
  },
  {
   "cell_type": "markdown",
   "metadata": {},
   "source": [
    "<br>  After Looking at the base model and the p-value of the feature's, we know that the Hypothesis for the feature's is\n",
    "- H0: Feature is not significant\n",
    "- Ha: Feature is significant  \n",
    "  But we just cant conclude the significance of the feature's just by base model and also without using any of the feature engineering technique's we have at our disposal.\n",
    "  So we will first try to do the statistical test's of the feature for the feature selection, we can also use the forward selection and backward elimination , we will use the Variance inflation factor"
   ]
  },
  {
   "cell_type": "markdown",
   "metadata": {},
   "source": [
    "# ASSUMPTIONS OF LINEAR REGRESSION."
   ]
  },
  {
   "cell_type": "markdown",
   "metadata": {},
   "source": [
    "## Linearity"
   ]
  },
  {
   "cell_type": "code",
   "execution_count": 48,
   "metadata": {
    "ExecuteTime": {
     "end_time": "2020-01-18T14:42:44.284308Z",
     "start_time": "2020-01-18T14:42:43.224608Z"
    }
   },
   "outputs": [
    {
     "data": {
      "image/png": "[encoded data removed]",
      "text/plain": [
       "<Figure size 540x180 with 3 Axes>"
      ]
     },
     "metadata": {
      "needs_background": "light"
     },
     "output_type": "display_data"
    }
   ],
   "source": [
    "sns.pairplot(x_vars=['Monthly Premium Auto','Total Claim Amount','Income'],y_vars =['Customer Lifetime Value'],data = data)\n",
    "plt.show()"
   ]
  },
  {
   "cell_type": "markdown",
   "metadata": {},
   "source": [
    "We don't see any linear relationship between the variables and the Y varible , which fail's the first assumption of linear regression."
   ]
  },
  {
   "cell_type": "markdown",
   "metadata": {},
   "source": [
    "## Mean Of Residuals"
   ]
  },
  {
   "cell_type": "code",
   "execution_count": 49,
   "metadata": {
    "ExecuteTime": {
     "end_time": "2020-01-18T14:42:46.991587Z",
     "start_time": "2020-01-18T14:42:46.970583Z"
    }
   },
   "outputs": [],
   "source": [
    "X_train,X_test,y_train,y_test = train_test_split(X,y,test_size=0.3,random_state=100)"
   ]
  },
  {
   "cell_type": "code",
   "execution_count": 50,
   "metadata": {
    "ExecuteTime": {
     "end_time": "2020-01-18T14:42:48.334637Z",
     "start_time": "2020-01-18T14:42:48.020915Z"
    }
   },
   "outputs": [
    {
     "name": "stdout",
     "output_type": "stream",
     "text": [
      "The mean of the residuals is -48.720195412063156\n"
     ]
    }
   ],
   "source": [
    "lr.fit(X_train,y_train)\n",
    "y_pred = lr.predict(X_test)\n",
    "residuals = y_pred-y_test\n",
    "mean_of_residuals = np.mean(residuals)\n",
    "print(f\"The mean of the residuals is {mean_of_residuals}\")"
   ]
  },
  {
   "cell_type": "markdown",
   "metadata": {},
   "source": [
    "The 2nd assumption is that the mean of the residual's must be close to zero, which again fail's."
   ]
  },
  {
   "cell_type": "markdown",
   "metadata": {},
   "source": [
    "## HomoScedasticity"
   ]
  },
  {
   "cell_type": "code",
   "execution_count": 51,
   "metadata": {
    "ExecuteTime": {
     "end_time": "2020-01-18T14:42:50.755778Z",
     "start_time": "2020-01-18T14:42:50.571904Z"
    }
   },
   "outputs": [
    {
     "data": {
      "text/plain": [
       "[('F statistic', 1.386631262828131), ('p-value', 1.0799648075037025e-09)]"
      ]
     },
     "execution_count": 51,
     "metadata": {},
     "output_type": "execute_result"
    }
   ],
   "source": [
    "name = ['F statistic', 'p-value']\n",
    "test = sms.het_goldfeldquandt(residuals,X_test)\n",
    "lzip(name, test)"
   ]
  },
  {
   "cell_type": "markdown",
   "metadata": {},
   "source": [
    "- H0: Error terms are homoscedastic\n",
    "- Ha: Error terms are not homoscedastic"
   ]
  },
  {
   "cell_type": "markdown",
   "metadata": {},
   "source": [
    "p-value < 0.05 reject null hypothesis, error terms are not homoscedastic"
   ]
  },
  {
   "cell_type": "markdown",
   "metadata": {},
   "source": [
    "## Test of normality of residuals."
   ]
  },
  {
   "cell_type": "code",
   "execution_count": 52,
   "metadata": {
    "ExecuteTime": {
     "end_time": "2020-01-18T14:42:54.435148Z",
     "start_time": "2020-01-18T14:42:54.004824Z"
    }
   },
   "outputs": [
    {
     "data": {
      "image/png": "[encoded data removed]",
      "text/plain": [
       "<Figure size 432x288 with 1 Axes>"
      ]
     },
     "metadata": {
      "needs_background": "light"
     },
     "output_type": "display_data"
    }
   ],
   "source": [
    "p = sns.distplot(residuals,kde=True)\n",
    "p = plt.title('Normality of error terms/residuals')"
   ]
  },
  {
   "cell_type": "markdown",
   "metadata": {},
   "source": [
    "The distribution clearly show's that the residuals are not normally distributed, and the third assumption also fail's."
   ]
  },
  {
   "cell_type": "markdown",
   "metadata": {},
   "source": [
    "# Auto Co-relation."
   ]
  },
  {
   "cell_type": "code",
   "execution_count": 53,
   "metadata": {
    "ExecuteTime": {
     "end_time": "2020-01-18T14:42:56.970501Z",
     "start_time": "2020-01-18T14:42:56.836575Z"
    }
   },
   "outputs": [
    {
     "data": {
      "text/plain": [
       "0.07495722040140565"
      ]
     },
     "execution_count": 53,
     "metadata": {},
     "output_type": "execute_result"
    }
   ],
   "source": [
    "min(diag.acorr_ljungbox(residuals , lags = 40)[1])"
   ]
  },
  {
   "cell_type": "markdown",
   "metadata": {},
   "source": [
    "- Ho: Auto correlation is absent\n",
    "- Ha: Auto correlation is present\n",
    "\n",
    "The P-value is >0.05 ,we fail to reject the null hypothesis, auto co relation is absent."
   ]
  },
  {
   "cell_type": "markdown",
   "metadata": {},
   "source": [
    "## Multi-Colinearity"
   ]
  },
  {
   "cell_type": "markdown",
   "metadata": {},
   "source": [
    "Out of the five assumption's we base model doesnt satisfy 3 out of them, we will try to satisfy them in the furthur process."
   ]
  },
  {
   "cell_type": "markdown",
   "metadata": {},
   "source": [
    "# STATISTICAL ANALYSIS."
   ]
  },
  {
   "cell_type": "markdown",
   "metadata": {},
   "source": [
    "Considering CLTV (Customer Lifetime Value) as the target variable, we shall try to understand how each of the independent variables are contributing towards the target variable.\n",
    "\n",
    "Since our target variable is a continuous variable, we will have to perform ANOVA to understand how significant are the independent variables towards target variable.\n",
    "\n",
    "For ANOVA,\n",
    "- Null hypothesis is that there is no significant difference among the groups\n",
    "- Alternative hypothesis is that there is at least one significant difference among the groups"
   ]
  },
  {
   "cell_type": "markdown",
   "metadata": {},
   "source": [
    "# State v/s Customer Lifetime Value"
   ]
  },
  {
   "cell_type": "code",
   "execution_count": 55,
   "metadata": {
    "ExecuteTime": {
     "end_time": "2020-01-18T14:43:36.815084Z",
     "start_time": "2020-01-18T14:43:36.730123Z"
    }
   },
   "outputs": [],
   "source": [
    "data = pd.read_csv('Insurance_Marketing-Customer-Value-Analysis.csv')"
   ]
  },
  {
   "cell_type": "code",
   "execution_count": 56,
   "metadata": {
    "ExecuteTime": {
     "end_time": "2020-01-18T14:43:38.107712Z",
     "start_time": "2020-01-18T14:43:38.086728Z"
    }
   },
   "outputs": [],
   "source": [
    "State = data.groupby('State')\n",
    "Washington = State.get_group('Washington')['Customer Lifetime Value']\n",
    "Arizona = State.get_group('Arizona')['Customer Lifetime Value']\n",
    "Nevada = State.get_group('Nevada')['Customer Lifetime Value']\n",
    "California = State.get_group('California')['Customer Lifetime Value']\n",
    "Oregon = State.get_group('Oregon')['Customer Lifetime Value']"
   ]
  },
  {
   "cell_type": "code",
   "execution_count": 57,
   "metadata": {
    "ExecuteTime": {
     "end_time": "2020-01-18T14:43:39.563783Z",
     "start_time": "2020-01-18T14:43:39.425862Z"
    }
   },
   "outputs": [
    {
     "name": "stdout",
     "output_type": "stream",
     "text": [
      "NormaltestResult(statistic=589.985409403956, pvalue=7.69655090624974e-129) \n",
      "\n",
      "NormaltestResult(statistic=1123.931182802557, pvalue=8.73865582665683e-245) \n",
      "\n",
      "NormaltestResult(statistic=531.43144944664, pvalue=3.9914160352323387e-116) \n",
      "\n",
      "NormaltestResult(statistic=2047.3388756109375, pvalue=0.0) \n",
      "\n",
      "NormaltestResult(statistic=1836.7206700158117, pvalue=0.0) \n",
      "\n"
     ]
    }
   ],
   "source": [
    "for i in [Washington,Arizona,Nevada,California,Oregon]:\n",
    "    print(normaltest(i),'\\n')"
   ]
  },
  {
   "cell_type": "markdown",
   "metadata": {},
   "source": [
    "CLTV of all the 'States' follow a normal distribution.\n",
    "Hence, we can perform ANOVA test."
   ]
  },
  {
   "cell_type": "code",
   "execution_count": 58,
   "metadata": {
    "ExecuteTime": {
     "end_time": "2020-01-18T14:43:41.232088Z",
     "start_time": "2020-01-18T14:43:41.222093Z"
    }
   },
   "outputs": [
    {
     "data": {
      "text/plain": [
       "F_onewayResult(statistic=0.27289285462119284, pvalue=0.8955985932127517)"
      ]
     },
     "execution_count": 58,
     "metadata": {},
     "output_type": "execute_result"
    }
   ],
   "source": [
    "f_oneway(Washington,Arizona,Nevada,California,Oregon)"
   ]
  },
  {
   "cell_type": "markdown",
   "metadata": {},
   "source": [
    "* ALL STATE HAVE SAME MEAN'S OF CLTV\n",
    "* pvalue > 0.05 implies that there is no significant difference in the mean of target variable which means 'State' feature is not significant for predicting 'Customer Lifetime Value'"
   ]
  },
  {
   "cell_type": "markdown",
   "metadata": {},
   "source": [
    "### Customer Response to marketing calls v/s Customer Lifetime Value:"
   ]
  },
  {
   "cell_type": "code",
   "execution_count": 59,
   "metadata": {
    "ExecuteTime": {
     "end_time": "2020-01-18T14:43:43.406106Z",
     "start_time": "2020-01-18T14:43:43.393114Z"
    }
   },
   "outputs": [],
   "source": [
    "Response = data[['Customer Lifetime Value','Response']].groupby('Response')\n",
    "No = Response['Customer Lifetime Value'].get_group('No')\n",
    "Yes = Response['Customer Lifetime Value'].get_group('Yes')"
   ]
  },
  {
   "cell_type": "code",
   "execution_count": 60,
   "metadata": {
    "ExecuteTime": {
     "end_time": "2020-01-18T14:43:44.192921Z",
     "start_time": "2020-01-18T14:43:44.180933Z"
    }
   },
   "outputs": [
    {
     "name": "stdout",
     "output_type": "stream",
     "text": [
      "NormaltestResult(statistic=5322.477891516728, pvalue=0.0) \n",
      "\n",
      "NormaltestResult(statistic=639.4950779413575, pvalue=1.3658664040085885e-139) \n",
      "\n"
     ]
    }
   ],
   "source": [
    "for i in [No,Yes]:\n",
    "    print(normaltest(i),'\\n')"
   ]
  },
  {
   "cell_type": "markdown",
   "metadata": {},
   "source": [
    "CLTV of all the 'Response' follow a normal distribution.\n",
    "Hence, we can perform ANOVA test or test of mean for independent categories."
   ]
  },
  {
   "cell_type": "code",
   "execution_count": 61,
   "metadata": {
    "ExecuteTime": {
     "end_time": "2020-01-18T14:43:45.554485Z",
     "start_time": "2020-01-18T14:43:45.544497Z"
    }
   },
   "outputs": [
    {
     "data": {
      "text/plain": [
       "Ttest_indResult(statistic=0.8533582829612565, pvalue=0.393483030479461)"
      ]
     },
     "execution_count": 61,
     "metadata": {},
     "output_type": "execute_result"
    }
   ],
   "source": [
    "ttest_ind(No,Yes)"
   ]
  },
  {
   "cell_type": "markdown",
   "metadata": {},
   "source": [
    "* RESPONE HAVE SAME MEAN'S OF CLTV\n",
    "* pvalue > 0.05 implies that there is no significant difference in the mean of target variable which means 'Response' feature is not significant for predicting 'Customer Lifetime Value'"
   ]
  },
  {
   "cell_type": "markdown",
   "metadata": {},
   "source": [
    "### Coverage Type v/s Customer Lifetime Value:"
   ]
  },
  {
   "cell_type": "code",
   "execution_count": 62,
   "metadata": {
    "ExecuteTime": {
     "end_time": "2020-01-18T14:43:47.515612Z",
     "start_time": "2020-01-18T14:43:47.501620Z"
    }
   },
   "outputs": [],
   "source": [
    "Coverage = data[['Customer Lifetime Value','Coverage']].groupby('Coverage')\n",
    "basic = Coverage['Customer Lifetime Value'].get_group('Basic')\n",
    "extended = Coverage['Customer Lifetime Value'].get_group('Extended')\n",
    "premium = Coverage['Customer Lifetime Value'].get_group('Premium')"
   ]
  },
  {
   "cell_type": "code",
   "execution_count": 63,
   "metadata": {
    "ExecuteTime": {
     "end_time": "2020-01-18T14:43:48.356492Z",
     "start_time": "2020-01-18T14:43:48.340503Z"
    }
   },
   "outputs": [
    {
     "name": "stdout",
     "output_type": "stream",
     "text": [
      "NormaltestResult(statistic=3458.849448301252, pvalue=0.0) \n",
      "\n",
      "NormaltestResult(statistic=1947.8731066934433, pvalue=0.0) \n",
      "\n",
      "NormaltestResult(statistic=503.3468946321326, pvalue=5.007380445967074e-110) \n",
      "\n"
     ]
    }
   ],
   "source": [
    "for i in [basic,extended,premium]:\n",
    "    print(normaltest(i),'\\n')"
   ]
  },
  {
   "cell_type": "markdown",
   "metadata": {},
   "source": [
    "CLTV of all the 'Coverage' follow a normal distribution.\n",
    "Hence, we can perform ANOVA test."
   ]
  },
  {
   "cell_type": "code",
   "execution_count": 64,
   "metadata": {
    "ExecuteTime": {
     "end_time": "2020-01-18T14:43:49.860845Z",
     "start_time": "2020-01-18T14:43:49.849855Z"
    }
   },
   "outputs": [
    {
     "data": {
      "text/plain": [
       "F_onewayResult(statistic=133.67511419504908, pvalue=6.0158970099807e-58)"
      ]
     },
     "execution_count": 64,
     "metadata": {},
     "output_type": "execute_result"
    }
   ],
   "source": [
    "f_oneway(basic,extended,premium)"
   ]
  },
  {
   "cell_type": "markdown",
   "metadata": {},
   "source": [
    "* MEAN'S ARE NOT SAME FOR COVERAGE\n",
    "* pvalue < 0.05 implies that there is significant difference in the mean of target variable for atleast one group of 'Coverage' which means 'Coverage' feature can be a significant for predicting 'Customer Lifetime Value'"
   ]
  },
  {
   "cell_type": "markdown",
   "metadata": {},
   "source": [
    "### Education v/s Customer Lifetime Value:"
   ]
  },
  {
   "cell_type": "code",
   "execution_count": 65,
   "metadata": {
    "ExecuteTime": {
     "end_time": "2020-01-18T14:43:51.867043Z",
     "start_time": "2020-01-18T14:43:51.850057Z"
    }
   },
   "outputs": [],
   "source": [
    "Education = data[['Customer Lifetime Value','Education']].groupby('Education')\n",
    "bachelor = Education['Customer Lifetime Value'].get_group('Bachelor')\n",
    "college = Education['Customer Lifetime Value'].get_group('College')\n",
    "highschool = Education['Customer Lifetime Value'].get_group('High School or Below')\n",
    "master = Education['Customer Lifetime Value'].get_group('Master')\n",
    "doctor = Education['Customer Lifetime Value'].get_group('Doctor')"
   ]
  },
  {
   "cell_type": "code",
   "execution_count": 66,
   "metadata": {
    "ExecuteTime": {
     "end_time": "2020-01-18T14:43:52.577187Z",
     "start_time": "2020-01-18T14:43:52.557199Z"
    }
   },
   "outputs": [
    {
     "name": "stdout",
     "output_type": "stream",
     "text": [
      "NormaltestResult(statistic=3458.849448301252, pvalue=0.0) \n",
      "\n",
      "NormaltestResult(statistic=1808.0647185961266, pvalue=0.0) \n",
      "\n",
      "NormaltestResult(statistic=1797.622885789157, pvalue=0.0) \n",
      "\n",
      "NormaltestResult(statistic=420.3468077537673, pvalue=5.282633163257892e-92) \n",
      "\n",
      "NormaltestResult(statistic=207.1795478118804, pvalue=1.0269110120928107e-45) \n",
      "\n"
     ]
    }
   ],
   "source": [
    "for i in [basic,college,highschool,master,doctor]:\n",
    "    print(normaltest(i),'\\n')"
   ]
  },
  {
   "cell_type": "markdown",
   "metadata": {},
   "source": [
    "CLTV of all the categories of 'Education' follow a normal distribution.\n",
    "Hence, we can perform ANOVA test."
   ]
  },
  {
   "cell_type": "code",
   "execution_count": 67,
   "metadata": {
    "ExecuteTime": {
     "end_time": "2020-01-18T14:43:54.070920Z",
     "start_time": "2020-01-18T14:43:54.062922Z"
    }
   },
   "outputs": [
    {
     "data": {
      "text/plain": [
       "F_onewayResult(statistic=2.4228653480521904, pvalue=0.04603615409468821)"
      ]
     },
     "execution_count": 67,
     "metadata": {},
     "output_type": "execute_result"
    }
   ],
   "source": [
    "f_oneway(bachelor,college,highschool,master,doctor)"
   ]
  },
  {
   "cell_type": "markdown",
   "metadata": {},
   "source": [
    "* MEAN'S ARE NOT SAME FOR EDUCATION\n",
    "* pvalue < 0.05 implies that there is significant difference in the mean of target variable for atleast one group of 'Education' which means 'Education' feature can be a significant for predicting 'Customer Lifetime Value'"
   ]
  },
  {
   "cell_type": "markdown",
   "metadata": {},
   "source": [
    "### Employment Status v/s Customer Lifetime Value :"
   ]
  },
  {
   "cell_type": "code",
   "execution_count": 68,
   "metadata": {
    "ExecuteTime": {
     "end_time": "2020-01-18T14:43:56.052213Z",
     "start_time": "2020-01-18T14:43:56.037211Z"
    }
   },
   "outputs": [],
   "source": [
    "es = data[['Customer Lifetime Value','EmploymentStatus']].groupby('EmploymentStatus')\n",
    "employed = es['Customer Lifetime Value'].get_group('Employed')\n",
    "unemployed = es['Customer Lifetime Value'].get_group('Unemployed')\n",
    "medleave = es['Customer Lifetime Value'].get_group('Medical Leave')\n",
    "disabled = es['Customer Lifetime Value'].get_group('Disabled')\n",
    "retired = es['Customer Lifetime Value'].get_group('Retired')"
   ]
  },
  {
   "cell_type": "code",
   "execution_count": 69,
   "metadata": {
    "ExecuteTime": {
     "end_time": "2020-01-18T14:43:56.952042Z",
     "start_time": "2020-01-18T14:43:56.930061Z"
    }
   },
   "outputs": [
    {
     "name": "stdout",
     "output_type": "stream",
     "text": [
      "NormaltestResult(statistic=3761.129277691408, pvalue=0.0) \n",
      "\n",
      "NormaltestResult(statistic=1679.139433825762, pvalue=0.0) \n",
      "\n",
      "NormaltestResult(statistic=235.4863106944144, pvalue=7.324826645525092e-52) \n",
      "\n",
      "NormaltestResult(statistic=276.0845869374091, pvalue=1.119421586116707e-60) \n",
      "\n",
      "NormaltestResult(statistic=99.68654915712415, pvalue=2.256009325581312e-22) \n",
      "\n"
     ]
    }
   ],
   "source": [
    "for i in [employed,unemployed,medleave,disabled,retired]:\n",
    "    print(normaltest(i),'\\n')"
   ]
  },
  {
   "cell_type": "markdown",
   "metadata": {},
   "source": [
    "CLTV of all the categories of 'Employment Status' follow a normal distribution.\n",
    "Hence, we can perform ANOVA test."
   ]
  },
  {
   "cell_type": "code",
   "execution_count": 70,
   "metadata": {
    "ExecuteTime": {
     "end_time": "2020-01-18T14:43:58.261605Z",
     "start_time": "2020-01-18T14:43:58.252620Z"
    }
   },
   "outputs": [
    {
     "data": {
      "text/plain": [
       "F_onewayResult(statistic=3.809808710328605, pvalue=0.00425058662383102)"
      ]
     },
     "execution_count": 70,
     "metadata": {},
     "output_type": "execute_result"
    }
   ],
   "source": [
    "f_oneway(employed,unemployed,medleave,disabled,retired)"
   ]
  },
  {
   "cell_type": "markdown",
   "metadata": {},
   "source": [
    "* MEAN'S ARE NOT SAME FOR Employment Status\n",
    "* pvalue < 0.05 implies that there is significant difference in the mean of target variable for atleast one group of 'Employment Status' which means 'Employment Status' feature can be a significant for predicting 'Customer Lifetime Value'"
   ]
  },
  {
   "cell_type": "markdown",
   "metadata": {},
   "source": [
    "### Gender v/s Customer Lifetime Value :"
   ]
  },
  {
   "cell_type": "code",
   "execution_count": 71,
   "metadata": {
    "ExecuteTime": {
     "end_time": "2020-01-18T14:44:00.335518Z",
     "start_time": "2020-01-18T14:44:00.323511Z"
    }
   },
   "outputs": [],
   "source": [
    "g = data[['Customer Lifetime Value','Gender']].groupby('Gender')\n",
    "f = g['Customer Lifetime Value'].get_group('F')\n",
    "m = g['Customer Lifetime Value'].get_group('M')"
   ]
  },
  {
   "cell_type": "code",
   "execution_count": 72,
   "metadata": {
    "ExecuteTime": {
     "end_time": "2020-01-18T14:44:01.063471Z",
     "start_time": "2020-01-18T14:44:01.048469Z"
    }
   },
   "outputs": [
    {
     "name": "stdout",
     "output_type": "stream",
     "text": [
      "NormaltestResult(statistic=2834.0749107540296, pvalue=0.0) \n",
      "\n",
      "NormaltestResult(statistic=3243.1471942337193, pvalue=0.0) \n",
      "\n"
     ]
    }
   ],
   "source": [
    "for i in [f,m]:\n",
    "    print(normaltest(i),'\\n')"
   ]
  },
  {
   "cell_type": "markdown",
   "metadata": {},
   "source": [
    "CLTV of all the categories of 'Gender' follow a normal distribution.\n",
    "Hence, we can perform ANOVA test or test of mean for independent features."
   ]
  },
  {
   "cell_type": "code",
   "execution_count": 73,
   "metadata": {
    "ExecuteTime": {
     "end_time": "2020-01-18T14:44:02.512497Z",
     "start_time": "2020-01-18T14:44:02.503502Z"
    }
   },
   "outputs": [
    {
     "data": {
      "text/plain": [
       "Ttest_indResult(statistic=1.300686352501256, pvalue=0.19339865630769232)"
      ]
     },
     "execution_count": 73,
     "metadata": {},
     "output_type": "execute_result"
    }
   ],
   "source": [
    "ttest_ind(f,m)"
   ]
  },
  {
   "cell_type": "markdown",
   "metadata": {},
   "source": [
    "* MEAN'S ARE SAME FOR GENDER\n",
    "* pvalue > 0.05 implies that there is no significant difference in the mean of target variable for 'Gender' which means 'Gender' feature is not significant for predicting 'Customer Lifetime Value'"
   ]
  },
  {
   "cell_type": "markdown",
   "metadata": {},
   "source": [
    "### Location Code v/s Customer Lifetime Value :"
   ]
  },
  {
   "cell_type": "code",
   "execution_count": 74,
   "metadata": {
    "ExecuteTime": {
     "end_time": "2020-01-18T14:44:04.355710Z",
     "start_time": "2020-01-18T14:44:04.342718Z"
    }
   },
   "outputs": [],
   "source": [
    "location = data[['Customer Lifetime Value','Location Code']].groupby('Location Code')\n",
    "sub = location['Customer Lifetime Value'].get_group('Suburban')\n",
    "urban = location['Customer Lifetime Value'].get_group('Urban')\n",
    "rural = location['Customer Lifetime Value'].get_group('Rural')"
   ]
  },
  {
   "cell_type": "code",
   "execution_count": 75,
   "metadata": {
    "ExecuteTime": {
     "end_time": "2020-01-18T14:44:05.179636Z",
     "start_time": "2020-01-18T14:44:05.159651Z"
    }
   },
   "outputs": [
    {
     "name": "stdout",
     "output_type": "stream",
     "text": [
      "NormaltestResult(statistic=4001.809435806882, pvalue=0.0) \n",
      "\n",
      "NormaltestResult(statistic=941.3620057193798, pvalue=3.8533434657380165e-205) \n",
      "\n",
      "NormaltestResult(statistic=1122.9340758970607, pvalue=1.4386781520042673e-244) \n",
      "\n"
     ]
    }
   ],
   "source": [
    "for i in [sub,urban,rural]:\n",
    "    print(normaltest(i),'\\n')"
   ]
  },
  {
   "cell_type": "markdown",
   "metadata": {},
   "source": [
    "CLTV of all the categories of 'Location Code' follow a normal distribution.\n",
    "Hence, we can perform ANOVA test."
   ]
  },
  {
   "cell_type": "code",
   "execution_count": 76,
   "metadata": {
    "ExecuteTime": {
     "end_time": "2020-01-18T14:44:06.444580Z",
     "start_time": "2020-01-18T14:44:06.436588Z"
    }
   },
   "outputs": [
    {
     "data": {
      "text/plain": [
       "F_onewayResult(statistic=0.10800210605345337, pvalue=0.8976268526407198)"
      ]
     },
     "execution_count": 76,
     "metadata": {},
     "output_type": "execute_result"
    }
   ],
   "source": [
    "f_oneway(sub,urban,rural)"
   ]
  },
  {
   "cell_type": "markdown",
   "metadata": {},
   "source": [
    "* MEAN'S ARE SAME FOR LOCATION CODE\n",
    "* pvalue > 0.05 implies that there is no significant difference in the mean of target variable for 'Location Code' which means 'Location Code' feature is not significant for predicting 'Customer Lifetime Value'"
   ]
  },
  {
   "cell_type": "markdown",
   "metadata": {},
   "source": [
    "### Marital Status v/s Customer Lifetime Value :"
   ]
  },
  {
   "cell_type": "code",
   "execution_count": 77,
   "metadata": {
    "ExecuteTime": {
     "end_time": "2020-01-18T14:44:08.288506Z",
     "start_time": "2020-01-18T14:44:08.275504Z"
    }
   },
   "outputs": [],
   "source": [
    "MaritalStatus = data[['Customer Lifetime Value','Marital Status']].groupby('Marital Status')\n",
    "Married = MaritalStatus['Customer Lifetime Value'].get_group('Married')\n",
    "Single = MaritalStatus['Customer Lifetime Value'].get_group('Single')\n",
    "Divorced = MaritalStatus['Customer Lifetime Value'].get_group('Divorced')"
   ]
  },
  {
   "cell_type": "code",
   "execution_count": 78,
   "metadata": {
    "ExecuteTime": {
     "end_time": "2020-01-18T14:44:08.973617Z",
     "start_time": "2020-01-18T14:44:08.958630Z"
    }
   },
   "outputs": [
    {
     "name": "stdout",
     "output_type": "stream",
     "text": [
      "NormaltestResult(statistic=3677.216857754807, pvalue=0.0) \n",
      "\n",
      "NormaltestResult(statistic=1721.914498898464, pvalue=0.0) \n",
      "\n",
      "NormaltestResult(statistic=680.597010523175, pvalue=1.6226952503119905e-148) \n",
      "\n"
     ]
    }
   ],
   "source": [
    "for i in [Married,Single,Divorced]:\n",
    "    print(normaltest(i),'\\n')"
   ]
  },
  {
   "cell_type": "markdown",
   "metadata": {},
   "source": [
    "CLTV of all the categories of 'Location Code' follow a normal distribution.\n",
    "Hence, we can perform ANOVA test."
   ]
  },
  {
   "cell_type": "code",
   "execution_count": 79,
   "metadata": {
    "ExecuteTime": {
     "end_time": "2020-01-18T14:44:10.355278Z",
     "start_time": "2020-01-18T14:44:10.345290Z"
    }
   },
   "outputs": [
    {
     "data": {
      "text/plain": [
       "F_onewayResult(statistic=3.317664937589139, pvalue=0.036281036735873)"
      ]
     },
     "execution_count": 79,
     "metadata": {},
     "output_type": "execute_result"
    }
   ],
   "source": [
    "f_oneway(Married,Single,Divorced)"
   ]
  },
  {
   "cell_type": "markdown",
   "metadata": {},
   "source": [
    "* MEANS ARE NOT SAME Marital Status\n",
    "* pvalue < 0.05 implies that there is significant difference in the mean of target variable for at least on Group of 'Marital Status' which means 'Marital Status' feature can be significant for predicting 'Customer Lifetime Value'"
   ]
  },
  {
   "cell_type": "markdown",
   "metadata": {},
   "source": [
    "### Policy v/s Customer Lifetime Value :"
   ]
  },
  {
   "cell_type": "code",
   "execution_count": 80,
   "metadata": {
    "ExecuteTime": {
     "end_time": "2020-01-18T14:44:12.106501Z",
     "start_time": "2020-01-18T14:44:12.085514Z"
    }
   },
   "outputs": [],
   "source": [
    "Policy  = data[['Customer Lifetime Value','Policy']].groupby('Policy')\n",
    "p3 = Policy['Customer Lifetime Value'].get_group('Personal L3')\n",
    "p2 = Policy['Customer Lifetime Value'].get_group('Personal L2')\n",
    "p1 = Policy['Customer Lifetime Value'].get_group('Personal L1')\n",
    "c3 = Policy['Customer Lifetime Value'].get_group('Corporate L3')\n",
    "c2 = Policy['Customer Lifetime Value'].get_group('Corporate L2')\n",
    "c1 = Policy['Customer Lifetime Value'].get_group('Corporate L1')\n",
    "s3 = Policy['Customer Lifetime Value'].get_group('Special L3')\n",
    "s2 = Policy['Customer Lifetime Value'].get_group('Special L2')\n",
    "s1 = Policy['Customer Lifetime Value'].get_group('Special L1')"
   ]
  },
  {
   "cell_type": "code",
   "execution_count": 81,
   "metadata": {
    "ExecuteTime": {
     "end_time": "2020-01-18T14:44:12.933831Z",
     "start_time": "2020-01-18T14:44:12.901848Z"
    }
   },
   "outputs": [
    {
     "name": "stdout",
     "output_type": "stream",
     "text": [
      "NormaltestResult(statistic=2454.8806553250483, pvalue=0.0) \n",
      "\n",
      "NormaltestResult(statistic=1239.8942061958492, pvalue=5.7596229383194274e-270) \n",
      "\n",
      "NormaltestResult(statistic=992.9674497188381, pvalue=2.3980483698011588e-216) \n",
      "\n",
      "NormaltestResult(statistic=605.9012411656124, pvalue=2.6928811836326553e-132) \n",
      "\n",
      "NormaltestResult(statistic=373.09668872516477, pvalue=9.617970377316392e-82) \n",
      "\n",
      "NormaltestResult(statistic=187.8953648881132, pvalue=1.5813934182974064e-41) \n",
      "\n",
      "NormaltestResult(statistic=81.04251038237228, pvalue=2.52256560971873e-18) \n",
      "\n",
      "NormaltestResult(statistic=98.75159886489641, pvalue=3.6004995993148485e-22) \n",
      "\n",
      "NormaltestResult(statistic=19.415176797916622, pvalue=6.0820211456712794e-05) \n",
      "\n"
     ]
    }
   ],
   "source": [
    "for i in [p3,p2,p1,c3,c2,c1,s3,s2,s1]:\n",
    "    print(normaltest(i),'\\n')"
   ]
  },
  {
   "cell_type": "markdown",
   "metadata": {},
   "source": [
    "CLTV of all the categories of 'Policy' follow a normal distribution.\n",
    "Hence, we can perform ANOVA test."
   ]
  },
  {
   "cell_type": "code",
   "execution_count": 82,
   "metadata": {
    "ExecuteTime": {
     "end_time": "2020-01-18T14:44:14.132189Z",
     "start_time": "2020-01-18T14:44:14.123175Z"
    }
   },
   "outputs": [
    {
     "data": {
      "text/plain": [
       "F_onewayResult(statistic=1.1839990669675131, pvalue=0.3041951364145143)"
      ]
     },
     "execution_count": 82,
     "metadata": {},
     "output_type": "execute_result"
    }
   ],
   "source": [
    "f_oneway(p3,p2,p1,c3,c2,c1,s3,s2,s1)"
   ]
  },
  {
   "cell_type": "markdown",
   "metadata": {},
   "source": [
    "* MEANS ARE SAME Marital Status\n",
    "* pvalue > 0.05 implies that there is no significant difference in the mean of target variable for 'Policy' which means 'Policy' feature is not significant for predicting 'Customer Lifetime Value'"
   ]
  },
  {
   "cell_type": "markdown",
   "metadata": {},
   "source": [
    "### Renew Offer Type vs Customer Lifetime Value :"
   ]
  },
  {
   "cell_type": "code",
   "execution_count": 83,
   "metadata": {
    "ExecuteTime": {
     "end_time": "2020-01-18T14:44:16.177415Z",
     "start_time": "2020-01-18T14:44:16.158425Z"
    }
   },
   "outputs": [],
   "source": [
    "R  = data[['Customer Lifetime Value','Renew Offer Type']].groupby('Renew Offer Type')\n",
    "o1 = R['Customer Lifetime Value'].get_group('Offer1')\n",
    "o2 = R['Customer Lifetime Value'].get_group('Offer2')\n",
    "o3 = R['Customer Lifetime Value'].get_group('Offer3')\n",
    "o4 = R['Customer Lifetime Value'].get_group('Offer4')"
   ]
  },
  {
   "cell_type": "code",
   "execution_count": 84,
   "metadata": {
    "ExecuteTime": {
     "end_time": "2020-01-18T14:44:16.904407Z",
     "start_time": "2020-01-18T14:44:16.883422Z"
    }
   },
   "outputs": [
    {
     "name": "stdout",
     "output_type": "stream",
     "text": [
      "NormaltestResult(statistic=2617.6948383126864, pvalue=0.0) \n",
      "\n",
      "NormaltestResult(statistic=1936.9308789084942, pvalue=0.0) \n",
      "\n",
      "NormaltestResult(statistic=815.8559270625346, pvalue=6.904566619974463e-178) \n",
      "\n",
      "NormaltestResult(statistic=642.2059295134014, pvalue=3.5217156184052177e-140) \n",
      "\n"
     ]
    }
   ],
   "source": [
    "for i in [o1,o2,o3,o4]:\n",
    "    print(normaltest(i),'\\n')"
   ]
  },
  {
   "cell_type": "markdown",
   "metadata": {},
   "source": [
    "CLTV of all the categories of 'Renew Offer Type' follow a normal distribution.\n",
    "Hence, we can perform ANOVA test"
   ]
  },
  {
   "cell_type": "code",
   "execution_count": 85,
   "metadata": {
    "ExecuteTime": {
     "end_time": "2020-01-18T14:44:18.284304Z",
     "start_time": "2020-01-18T14:44:18.276294Z"
    }
   },
   "outputs": [
    {
     "data": {
      "text/plain": [
       "F_onewayResult(statistic=25.83261444494041, pvalue=1.238399930571374e-16)"
      ]
     },
     "execution_count": 85,
     "metadata": {},
     "output_type": "execute_result"
    }
   ],
   "source": [
    "f_oneway(o1,o2,o3,o4)"
   ]
  },
  {
   "cell_type": "markdown",
   "metadata": {},
   "source": [
    "* MEANS ARE NOT SAME FOR Renew Offer Type \n",
    "* pvalue < 0.05 implies that there is significant difference in the mean of target variable for at least on Group of 'Renew Offer Type' which means 'Renew Offer Type' feature can be significant for predicting 'Customer Lifetime Value'"
   ]
  },
  {
   "cell_type": "markdown",
   "metadata": {},
   "source": [
    "### Sales Channel vs Customer Lifetime Value :"
   ]
  },
  {
   "cell_type": "code",
   "execution_count": 86,
   "metadata": {
    "ExecuteTime": {
     "end_time": "2020-01-18T14:44:20.050040Z",
     "start_time": "2020-01-18T14:44:20.036057Z"
    }
   },
   "outputs": [],
   "source": [
    "Sales  = data[['Customer Lifetime Value','Sales Channel']].groupby('Sales Channel')\n",
    "agent = Sales['Customer Lifetime Value'].get_group('Agent')\n",
    "branch = Sales['Customer Lifetime Value'].get_group('Branch')\n",
    "call = Sales['Customer Lifetime Value'].get_group('Call Center')\n",
    "web = Sales['Customer Lifetime Value'].get_group('Web')"
   ]
  },
  {
   "cell_type": "code",
   "execution_count": 87,
   "metadata": {
    "ExecuteTime": {
     "end_time": "2020-01-18T14:44:20.770276Z",
     "start_time": "2020-01-18T14:44:20.750298Z"
    }
   },
   "outputs": [
    {
     "name": "stdout",
     "output_type": "stream",
     "text": [
      "NormaltestResult(statistic=2249.8117586071908, pvalue=0.0) \n",
      "\n",
      "NormaltestResult(statistic=1778.5170859072064, pvalue=0.0) \n",
      "\n",
      "NormaltestResult(statistic=1209.3339649106563, pvalue=2.4915300560589623e-263) \n",
      "\n",
      "NormaltestResult(statistic=866.0244616685382, pvalue=8.814091447361906e-189) \n",
      "\n"
     ]
    }
   ],
   "source": [
    "for i in [agent,branch,call,web]:\n",
    "    print(normaltest(i),'\\n')"
   ]
  },
  {
   "cell_type": "markdown",
   "metadata": {},
   "source": [
    "CLTV of all the categories of 'Sales Channel' follow a normal distribution.\n",
    "Hence, we can perform ANOVA test"
   ]
  },
  {
   "cell_type": "code",
   "execution_count": 88,
   "metadata": {
    "ExecuteTime": {
     "end_time": "2020-01-18T14:44:22.085560Z",
     "start_time": "2020-01-18T14:44:22.077570Z"
    }
   },
   "outputs": [
    {
     "data": {
      "text/plain": [
       "F_onewayResult(statistic=0.8805454785276248, pvalue=0.4502779502550758)"
      ]
     },
     "execution_count": 88,
     "metadata": {},
     "output_type": "execute_result"
    }
   ],
   "source": [
    "f_oneway(agent,branch,call,web)"
   ]
  },
  {
   "cell_type": "markdown",
   "metadata": {},
   "source": [
    "* MEANS ARE SAME for Sales Channel\n",
    "* pvalue > 0.05 implies that there is no significant difference in the mean of target variable for 'Sales Channel' which means 'Sales Channel' feature is not significant for predicting 'Customer Lifetime Value'"
   ]
  },
  {
   "cell_type": "markdown",
   "metadata": {},
   "source": [
    "### Vehicle Class vs Customer Lifetime Value :"
   ]
  },
  {
   "cell_type": "code",
   "execution_count": 89,
   "metadata": {
    "ExecuteTime": {
     "end_time": "2020-01-18T14:44:24.111459Z",
     "start_time": "2020-01-18T14:44:24.094477Z"
    }
   },
   "outputs": [],
   "source": [
    "VC  = data[['Customer Lifetime Value','Vehicle Class']].groupby('Vehicle Class')\n",
    "fd = VC['Customer Lifetime Value'].get_group('Four-Door Car')\n",
    "td = VC['Customer Lifetime Value'].get_group('Two-Door Car')\n",
    "suv = VC['Customer Lifetime Value'].get_group('SUV')\n",
    "sc = VC['Customer Lifetime Value'].get_group('Sports Car')\n",
    "ls = VC['Customer Lifetime Value'].get_group('Luxury SUV')\n",
    "lc = VC['Customer Lifetime Value'].get_group('Luxury Car')"
   ]
  },
  {
   "cell_type": "code",
   "execution_count": 90,
   "metadata": {
    "ExecuteTime": {
     "end_time": "2020-01-18T14:44:24.993804Z",
     "start_time": "2020-01-18T14:44:24.968824Z"
    }
   },
   "outputs": [
    {
     "name": "stdout",
     "output_type": "stream",
     "text": [
      "NormaltestResult(statistic=2591.5563098196517, pvalue=0.0) \n",
      "\n",
      "NormaltestResult(statistic=967.8795815175732, pvalue=6.723869874448458e-211) \n",
      "\n",
      "NormaltestResult(statistic=911.8062937987764, pvalue=1.0087394816479343e-198) \n",
      "\n",
      "NormaltestResult(statistic=256.8651916324882, pvalue=1.6689077848613138e-56) \n",
      "\n",
      "NormaltestResult(statistic=93.79133396550114, pvalue=4.300021273979593e-21) \n",
      "\n",
      "NormaltestResult(statistic=112.96534867020267, pvalue=2.9504360994555045e-25) \n",
      "\n"
     ]
    }
   ],
   "source": [
    "for i in [fd,td,suv,sc,ls,lc]:\n",
    "    print(normaltest(i),'\\n')"
   ]
  },
  {
   "cell_type": "markdown",
   "metadata": {},
   "source": [
    "CLTV of all the categories of 'Vehicle Class' follow a normal distribution.\n",
    "Hence, we can perform ANOVA test"
   ]
  },
  {
   "cell_type": "code",
   "execution_count": 91,
   "metadata": {
    "ExecuteTime": {
     "end_time": "2020-01-18T14:44:26.870782Z",
     "start_time": "2020-01-18T14:44:26.859792Z"
    }
   },
   "outputs": [
    {
     "data": {
      "text/plain": [
       "F_onewayResult(statistic=267.1581168024349, pvalue=2.085525760212929e-267)"
      ]
     },
     "execution_count": 91,
     "metadata": {},
     "output_type": "execute_result"
    }
   ],
   "source": [
    "f_oneway(fd,td,suv,sc,ls,lc)"
   ]
  },
  {
   "cell_type": "markdown",
   "metadata": {},
   "source": [
    "* MEANS ARE NOT SAME FOR Vehicle Class \n",
    "* pvalue < 0.05 implies that there is significant difference in the mean of target variable for at least on Group of 'Vehicle Class' which means 'Vehicle Class' feature can be significant for predicting 'Customer Lifetime Value'"
   ]
  },
  {
   "cell_type": "markdown",
   "metadata": {},
   "source": [
    "### Vehicle Size v/s Customer Lifetime Value :"
   ]
  },
  {
   "cell_type": "code",
   "execution_count": 92,
   "metadata": {
    "ExecuteTime": {
     "end_time": "2020-01-18T14:44:32.491962Z",
     "start_time": "2020-01-18T14:44:32.477961Z"
    }
   },
   "outputs": [],
   "source": [
    "VS  = data[['Customer Lifetime Value','Vehicle Size']].groupby('Vehicle Size')\n",
    "m = VS['Customer Lifetime Value'].get_group('Medsize')\n",
    "s = VS['Customer Lifetime Value'].get_group('Small')\n",
    "l = VS['Customer Lifetime Value'].get_group('Large')"
   ]
  },
  {
   "cell_type": "code",
   "execution_count": 93,
   "metadata": {
    "ExecuteTime": {
     "end_time": "2020-01-18T14:44:34.162496Z",
     "start_time": "2020-01-18T14:44:34.142505Z"
    }
   },
   "outputs": [
    {
     "name": "stdout",
     "output_type": "stream",
     "text": [
      "NormaltestResult(statistic=4107.297603156226, pvalue=0.0) \n",
      "\n",
      "NormaltestResult(statistic=1277.51103714535, pvalue=3.908435944085235e-278) \n",
      "\n",
      "NormaltestResult(statistic=710.5562496753278, pvalue=5.066065984237427e-155) \n",
      "\n"
     ]
    }
   ],
   "source": [
    "for i in [m,s,l]:\n",
    "    print(normaltest(i),'\\n')"
   ]
  },
  {
   "cell_type": "markdown",
   "metadata": {},
   "source": [
    "CLTV of all the categories of 'Vehicle Size' follow a normal distribution.\n",
    "Hence, we can perform ANOVA test"
   ]
  },
  {
   "cell_type": "code",
   "execution_count": 94,
   "metadata": {
    "ExecuteTime": {
     "end_time": "2020-01-18T14:44:35.729768Z",
     "start_time": "2020-01-18T14:44:35.719777Z"
    }
   },
   "outputs": [
    {
     "data": {
      "text/plain": [
       "F_onewayResult(statistic=2.382494601032998, pvalue=0.09237737701331775)"
      ]
     },
     "execution_count": 94,
     "metadata": {},
     "output_type": "execute_result"
    }
   ],
   "source": [
    "f_oneway(m,s,l)"
   ]
  },
  {
   "cell_type": "markdown",
   "metadata": {},
   "source": [
    "* MEANS ARE SAME for Vehicle Size\n",
    "* pvalue > 0.05 implies that there is no significant difference in the mean of target variable for 'Vehicle Size' which means 'Vehicle Size' feature is not significant for predicting 'Customer Lifetime Value'"
   ]
  },
  {
   "cell_type": "markdown",
   "metadata": {},
   "source": [
    "# Furthur Modelling:"
   ]
  },
  {
   "cell_type": "markdown",
   "metadata": {},
   "source": [
    "- So we did the EDA and also the Statistical Analysis, so now we can just dis regard the feature's which we saw that wouldnt contribute for our model."
   ]
  },
  {
   "cell_type": "code",
   "execution_count": 95,
   "metadata": {
    "ExecuteTime": {
     "end_time": "2020-01-18T14:44:38.585981Z",
     "start_time": "2020-01-18T14:44:38.575989Z"
    }
   },
   "outputs": [],
   "source": [
    "data.drop(['State','Customer','Response','EmploymentStatus','Gender','Location Code','Vehicle Size','Policy','Policy Type','Sales Channel','Income','Effective To Date','Education'],axis=1,inplace = True)"
   ]
  },
  {
   "cell_type": "code",
   "execution_count": 96,
   "metadata": {
    "ExecuteTime": {
     "end_time": "2020-01-18T14:44:39.397556Z",
     "start_time": "2020-01-18T14:44:39.376573Z"
    }
   },
   "outputs": [
    {
     "data": {
      "text/html": [
       "<div>\n",
       "<style scoped>\n",
       "    .dataframe tbody tr th:only-of-type {\n",
       "        vertical-align: middle;\n",
       "    }\n",
       "\n",
       "    .dataframe tbody tr th {\n",
       "        vertical-align: top;\n",
       "    }\n",
       "\n",
       "    .dataframe thead th {\n",
       "        text-align: right;\n",
       "    }\n",
       "</style>\n",
       "<table border=\"1\" class=\"dataframe\">\n",
       "  <thead>\n",
       "    <tr style=\"text-align: right;\">\n",
       "      <th></th>\n",
       "      <th>Customer Lifetime Value</th>\n",
       "      <th>Coverage</th>\n",
       "      <th>Marital Status</th>\n",
       "      <th>Monthly Premium Auto</th>\n",
       "      <th>Months Since Last Claim</th>\n",
       "      <th>Months Since Policy Inception</th>\n",
       "      <th>Number of Open Complaints</th>\n",
       "      <th>Number of Policies</th>\n",
       "      <th>Renew Offer Type</th>\n",
       "      <th>Total Claim Amount</th>\n",
       "      <th>Vehicle Class</th>\n",
       "    </tr>\n",
       "  </thead>\n",
       "  <tbody>\n",
       "    <tr>\n",
       "      <th>0</th>\n",
       "      <td>2763.519279</td>\n",
       "      <td>Basic</td>\n",
       "      <td>Married</td>\n",
       "      <td>69</td>\n",
       "      <td>32</td>\n",
       "      <td>5</td>\n",
       "      <td>0</td>\n",
       "      <td>1</td>\n",
       "      <td>Offer1</td>\n",
       "      <td>384.811147</td>\n",
       "      <td>Two-Door Car</td>\n",
       "    </tr>\n",
       "    <tr>\n",
       "      <th>1</th>\n",
       "      <td>6979.535903</td>\n",
       "      <td>Extended</td>\n",
       "      <td>Single</td>\n",
       "      <td>94</td>\n",
       "      <td>13</td>\n",
       "      <td>42</td>\n",
       "      <td>0</td>\n",
       "      <td>8</td>\n",
       "      <td>Offer3</td>\n",
       "      <td>1131.464935</td>\n",
       "      <td>Four-Door Car</td>\n",
       "    </tr>\n",
       "    <tr>\n",
       "      <th>2</th>\n",
       "      <td>12887.431650</td>\n",
       "      <td>Premium</td>\n",
       "      <td>Married</td>\n",
       "      <td>108</td>\n",
       "      <td>18</td>\n",
       "      <td>38</td>\n",
       "      <td>0</td>\n",
       "      <td>2</td>\n",
       "      <td>Offer1</td>\n",
       "      <td>566.472247</td>\n",
       "      <td>Two-Door Car</td>\n",
       "    </tr>\n",
       "    <tr>\n",
       "      <th>3</th>\n",
       "      <td>7645.861827</td>\n",
       "      <td>Basic</td>\n",
       "      <td>Married</td>\n",
       "      <td>106</td>\n",
       "      <td>18</td>\n",
       "      <td>65</td>\n",
       "      <td>0</td>\n",
       "      <td>7</td>\n",
       "      <td>Offer1</td>\n",
       "      <td>529.881344</td>\n",
       "      <td>SUV</td>\n",
       "    </tr>\n",
       "    <tr>\n",
       "      <th>4</th>\n",
       "      <td>2813.692575</td>\n",
       "      <td>Basic</td>\n",
       "      <td>Single</td>\n",
       "      <td>73</td>\n",
       "      <td>12</td>\n",
       "      <td>44</td>\n",
       "      <td>0</td>\n",
       "      <td>1</td>\n",
       "      <td>Offer1</td>\n",
       "      <td>138.130879</td>\n",
       "      <td>Four-Door Car</td>\n",
       "    </tr>\n",
       "  </tbody>\n",
       "</table>\n",
       "</div>"
      ],
      "text/plain": [
       "   Customer Lifetime Value  Coverage Marital Status  Monthly Premium Auto  \\\n",
       "0              2763.519279     Basic        Married                    69   \n",
       "1              6979.535903  Extended         Single                    94   \n",
       "2             12887.431650   Premium        Married                   108   \n",
       "3              7645.861827     Basic        Married                   106   \n",
       "4              2813.692575     Basic         Single                    73   \n",
       "\n",
       "   Months Since Last Claim  Months Since Policy Inception  \\\n",
       "0                       32                              5   \n",
       "1                       13                             42   \n",
       "2                       18                             38   \n",
       "3                       18                             65   \n",
       "4                       12                             44   \n",
       "\n",
       "   Number of Open Complaints  Number of Policies Renew Offer Type  \\\n",
       "0                          0                   1           Offer1   \n",
       "1                          0                   8           Offer3   \n",
       "2                          0                   2           Offer1   \n",
       "3                          0                   7           Offer1   \n",
       "4                          0                   1           Offer1   \n",
       "\n",
       "   Total Claim Amount  Vehicle Class  \n",
       "0          384.811147   Two-Door Car  \n",
       "1         1131.464935  Four-Door Car  \n",
       "2          566.472247   Two-Door Car  \n",
       "3          529.881344            SUV  \n",
       "4          138.130879  Four-Door Car  "
      ]
     },
     "execution_count": 96,
     "metadata": {},
     "output_type": "execute_result"
    }
   ],
   "source": [
    "data.head()"
   ]
  },
  {
   "cell_type": "markdown",
   "metadata": {},
   "source": [
    "- Though the feature's months since policy inception, months since last claim, number of open complaints and number of policies are all numerical, but they are discrete number's and we will consider them as categorical feature's while preparing the model."
   ]
  },
  {
   "cell_type": "markdown",
   "metadata": {},
   "source": [
    "- Firstly, according to our EDA, we saw that the number of policies >= 3 have similar trend so we will group all of them as 3"
   ]
  },
  {
   "cell_type": "code",
   "execution_count": 97,
   "metadata": {
    "ExecuteTime": {
     "end_time": "2020-01-18T14:44:41.969574Z",
     "start_time": "2020-01-18T14:44:41.962577Z"
    }
   },
   "outputs": [],
   "source": [
    "data['Number of Policies'] = np.where(data['Number of Policies']>2,3,data['Number of Policies'])"
   ]
  },
  {
   "cell_type": "markdown",
   "metadata": {},
   "source": [
    "Second, when we convert the numerical feature's to categorical, our normal practice is label encoding for ordinal data and one hot for nominal data, but we can also use one hot encoding for ordinal data if there isnt any curse of dimensionality, so we will convert the categorical to numerical with one-hot encoding / dummification."
   ]
  },
  {
   "cell_type": "code",
   "execution_count": 98,
   "metadata": {
    "ExecuteTime": {
     "end_time": "2020-01-18T14:44:43.318196Z",
     "start_time": "2020-01-18T14:44:43.208259Z"
    }
   },
   "outputs": [],
   "source": [
    "new = pd.get_dummies(data,columns=['Coverage','Marital Status','Number of Policies','Renew Offer Type','Vehicle Class'],drop_first=True)"
   ]
  },
  {
   "cell_type": "code",
   "execution_count": 99,
   "metadata": {
    "ExecuteTime": {
     "end_time": "2020-01-18T14:44:44.094204Z",
     "start_time": "2020-01-18T14:44:44.064230Z"
    }
   },
   "outputs": [
    {
     "data": {
      "text/html": [
       "<div>\n",
       "<style scoped>\n",
       "    .dataframe tbody tr th:only-of-type {\n",
       "        vertical-align: middle;\n",
       "    }\n",
       "\n",
       "    .dataframe tbody tr th {\n",
       "        vertical-align: top;\n",
       "    }\n",
       "\n",
       "    .dataframe thead th {\n",
       "        text-align: right;\n",
       "    }\n",
       "</style>\n",
       "<table border=\"1\" class=\"dataframe\">\n",
       "  <thead>\n",
       "    <tr style=\"text-align: right;\">\n",
       "      <th></th>\n",
       "      <th>Customer Lifetime Value</th>\n",
       "      <th>Monthly Premium Auto</th>\n",
       "      <th>Months Since Last Claim</th>\n",
       "      <th>Months Since Policy Inception</th>\n",
       "      <th>Number of Open Complaints</th>\n",
       "      <th>Total Claim Amount</th>\n",
       "      <th>Coverage_Extended</th>\n",
       "      <th>Coverage_Premium</th>\n",
       "      <th>Marital Status_Married</th>\n",
       "      <th>Marital Status_Single</th>\n",
       "      <th>Number of Policies_2</th>\n",
       "      <th>Number of Policies_3</th>\n",
       "      <th>Renew Offer Type_Offer2</th>\n",
       "      <th>Renew Offer Type_Offer3</th>\n",
       "      <th>Renew Offer Type_Offer4</th>\n",
       "      <th>Vehicle Class_Luxury Car</th>\n",
       "      <th>Vehicle Class_Luxury SUV</th>\n",
       "      <th>Vehicle Class_SUV</th>\n",
       "      <th>Vehicle Class_Sports Car</th>\n",
       "      <th>Vehicle Class_Two-Door Car</th>\n",
       "    </tr>\n",
       "  </thead>\n",
       "  <tbody>\n",
       "    <tr>\n",
       "      <th>0</th>\n",
       "      <td>2763.519279</td>\n",
       "      <td>69</td>\n",
       "      <td>32</td>\n",
       "      <td>5</td>\n",
       "      <td>0</td>\n",
       "      <td>384.811147</td>\n",
       "      <td>0</td>\n",
       "      <td>0</td>\n",
       "      <td>1</td>\n",
       "      <td>0</td>\n",
       "      <td>0</td>\n",
       "      <td>0</td>\n",
       "      <td>0</td>\n",
       "      <td>0</td>\n",
       "      <td>0</td>\n",
       "      <td>0</td>\n",
       "      <td>0</td>\n",
       "      <td>0</td>\n",
       "      <td>0</td>\n",
       "      <td>1</td>\n",
       "    </tr>\n",
       "    <tr>\n",
       "      <th>1</th>\n",
       "      <td>6979.535903</td>\n",
       "      <td>94</td>\n",
       "      <td>13</td>\n",
       "      <td>42</td>\n",
       "      <td>0</td>\n",
       "      <td>1131.464935</td>\n",
       "      <td>1</td>\n",
       "      <td>0</td>\n",
       "      <td>0</td>\n",
       "      <td>1</td>\n",
       "      <td>0</td>\n",
       "      <td>1</td>\n",
       "      <td>0</td>\n",
       "      <td>1</td>\n",
       "      <td>0</td>\n",
       "      <td>0</td>\n",
       "      <td>0</td>\n",
       "      <td>0</td>\n",
       "      <td>0</td>\n",
       "      <td>0</td>\n",
       "    </tr>\n",
       "    <tr>\n",
       "      <th>2</th>\n",
       "      <td>12887.431650</td>\n",
       "      <td>108</td>\n",
       "      <td>18</td>\n",
       "      <td>38</td>\n",
       "      <td>0</td>\n",
       "      <td>566.472247</td>\n",
       "      <td>0</td>\n",
       "      <td>1</td>\n",
       "      <td>1</td>\n",
       "      <td>0</td>\n",
       "      <td>1</td>\n",
       "      <td>0</td>\n",
       "      <td>0</td>\n",
       "      <td>0</td>\n",
       "      <td>0</td>\n",
       "      <td>0</td>\n",
       "      <td>0</td>\n",
       "      <td>0</td>\n",
       "      <td>0</td>\n",
       "      <td>1</td>\n",
       "    </tr>\n",
       "    <tr>\n",
       "      <th>3</th>\n",
       "      <td>7645.861827</td>\n",
       "      <td>106</td>\n",
       "      <td>18</td>\n",
       "      <td>65</td>\n",
       "      <td>0</td>\n",
       "      <td>529.881344</td>\n",
       "      <td>0</td>\n",
       "      <td>0</td>\n",
       "      <td>1</td>\n",
       "      <td>0</td>\n",
       "      <td>0</td>\n",
       "      <td>1</td>\n",
       "      <td>0</td>\n",
       "      <td>0</td>\n",
       "      <td>0</td>\n",
       "      <td>0</td>\n",
       "      <td>0</td>\n",
       "      <td>1</td>\n",
       "      <td>0</td>\n",
       "      <td>0</td>\n",
       "    </tr>\n",
       "    <tr>\n",
       "      <th>4</th>\n",
       "      <td>2813.692575</td>\n",
       "      <td>73</td>\n",
       "      <td>12</td>\n",
       "      <td>44</td>\n",
       "      <td>0</td>\n",
       "      <td>138.130879</td>\n",
       "      <td>0</td>\n",
       "      <td>0</td>\n",
       "      <td>0</td>\n",
       "      <td>1</td>\n",
       "      <td>0</td>\n",
       "      <td>0</td>\n",
       "      <td>0</td>\n",
       "      <td>0</td>\n",
       "      <td>0</td>\n",
       "      <td>0</td>\n",
       "      <td>0</td>\n",
       "      <td>0</td>\n",
       "      <td>0</td>\n",
       "      <td>0</td>\n",
       "    </tr>\n",
       "  </tbody>\n",
       "</table>\n",
       "</div>"
      ],
      "text/plain": [
       "   Customer Lifetime Value  Monthly Premium Auto  Months Since Last Claim  \\\n",
       "0              2763.519279                    69                       32   \n",
       "1              6979.535903                    94                       13   \n",
       "2             12887.431650                   108                       18   \n",
       "3              7645.861827                   106                       18   \n",
       "4              2813.692575                    73                       12   \n",
       "\n",
       "   Months Since Policy Inception  Number of Open Complaints  \\\n",
       "0                              5                          0   \n",
       "1                             42                          0   \n",
       "2                             38                          0   \n",
       "3                             65                          0   \n",
       "4                             44                          0   \n",
       "\n",
       "   Total Claim Amount  Coverage_Extended  Coverage_Premium  \\\n",
       "0          384.811147                  0                 0   \n",
       "1         1131.464935                  1                 0   \n",
       "2          566.472247                  0                 1   \n",
       "3          529.881344                  0                 0   \n",
       "4          138.130879                  0                 0   \n",
       "\n",
       "   Marital Status_Married  Marital Status_Single  Number of Policies_2  \\\n",
       "0                       1                      0                     0   \n",
       "1                       0                      1                     0   \n",
       "2                       1                      0                     1   \n",
       "3                       1                      0                     0   \n",
       "4                       0                      1                     0   \n",
       "\n",
       "   Number of Policies_3  Renew Offer Type_Offer2  Renew Offer Type_Offer3  \\\n",
       "0                     0                        0                        0   \n",
       "1                     1                        0                        1   \n",
       "2                     0                        0                        0   \n",
       "3                     1                        0                        0   \n",
       "4                     0                        0                        0   \n",
       "\n",
       "   Renew Offer Type_Offer4  Vehicle Class_Luxury Car  \\\n",
       "0                        0                         0   \n",
       "1                        0                         0   \n",
       "2                        0                         0   \n",
       "3                        0                         0   \n",
       "4                        0                         0   \n",
       "\n",
       "   Vehicle Class_Luxury SUV  Vehicle Class_SUV  Vehicle Class_Sports Car  \\\n",
       "0                         0                  0                         0   \n",
       "1                         0                  0                         0   \n",
       "2                         0                  0                         0   \n",
       "3                         0                  1                         0   \n",
       "4                         0                  0                         0   \n",
       "\n",
       "   Vehicle Class_Two-Door Car  \n",
       "0                           1  \n",
       "1                           0  \n",
       "2                           1  \n",
       "3                           0  \n",
       "4                           0  "
      ]
     },
     "execution_count": 99,
     "metadata": {},
     "output_type": "execute_result"
    }
   ],
   "source": [
    "new.head()"
   ]
  },
  {
   "cell_type": "markdown",
   "metadata": {},
   "source": [
    "### Spliting the data into 70(train) and 30(test)"
   ]
  },
  {
   "cell_type": "code",
   "execution_count": 100,
   "metadata": {
    "ExecuteTime": {
     "end_time": "2020-01-18T14:44:45.529161Z",
     "start_time": "2020-01-18T14:44:45.519171Z"
    }
   },
   "outputs": [],
   "source": [
    "X = new.drop('Customer Lifetime Value',axis=1)\n",
    "y = new['Customer Lifetime Value']"
   ]
  },
  {
   "cell_type": "code",
   "execution_count": 101,
   "metadata": {
    "ExecuteTime": {
     "end_time": "2020-01-18T14:44:46.228833Z",
     "start_time": "2020-01-18T14:44:46.216827Z"
    }
   },
   "outputs": [],
   "source": [
    "X_train,X_test,y_train,y_test = train_test_split(X,y,test_size=0.3,random_state=100)"
   ]
  },
  {
   "cell_type": "code",
   "execution_count": 102,
   "metadata": {
    "ExecuteTime": {
     "end_time": "2020-01-18T14:44:46.838988Z",
     "start_time": "2020-01-18T14:44:46.817007Z"
    }
   },
   "outputs": [
    {
     "data": {
      "text/plain": [
       "LinearRegression(copy_X=True, fit_intercept=True, n_jobs=None,\n",
       "         normalize=False)"
      ]
     },
     "execution_count": 102,
     "metadata": {},
     "output_type": "execute_result"
    }
   ],
   "source": [
    "lr.fit(X_train,y_train)"
   ]
  },
  {
   "cell_type": "code",
   "execution_count": 103,
   "metadata": {
    "ExecuteTime": {
     "end_time": "2020-01-18T14:44:47.474813Z",
     "start_time": "2020-01-18T14:44:47.401857Z"
    }
   },
   "outputs": [
    {
     "data": {
      "text/plain": [
       "0.6229090552681669"
      ]
     },
     "execution_count": 103,
     "metadata": {},
     "output_type": "execute_result"
    }
   ],
   "source": [
    "lr.score(X_test,y_test)"
   ]
  },
  {
   "cell_type": "code",
   "execution_count": 104,
   "metadata": {
    "ExecuteTime": {
     "end_time": "2020-01-18T14:44:48.069560Z",
     "start_time": "2020-01-18T14:44:48.057586Z"
    }
   },
   "outputs": [
    {
     "data": {
      "text/plain": [
       "0.6389753771298572"
      ]
     },
     "execution_count": 104,
     "metadata": {},
     "output_type": "execute_result"
    }
   ],
   "source": [
    "lr.score(X_train,y_train)"
   ]
  },
  {
   "cell_type": "markdown",
   "metadata": {},
   "source": [
    "So after removing the unnessary feature's our model is giving is an accuracy of about 60%, we would like to take it 70%\n",
    "in the furthur models."
   ]
  },
  {
   "cell_type": "markdown",
   "metadata": {},
   "source": [
    "# Feature Selection-Forward, Backward"
   ]
  },
  {
   "cell_type": "markdown",
   "metadata": {},
   "source": [
    "### Forward"
   ]
  },
  {
   "cell_type": "code",
   "execution_count": 105,
   "metadata": {
    "ExecuteTime": {
     "end_time": "2020-01-18T14:45:13.008934Z",
     "start_time": "2020-01-18T14:44:50.658713Z"
    }
   },
   "outputs": [
    {
     "data": {
      "image/png": "[encoded data removed]",
      "text/plain": [
       "<Figure size 432x288 with 1 Axes>"
      ]
     },
     "metadata": {
      "needs_background": "light"
     },
     "output_type": "display_data"
    }
   ],
   "source": [
    "sfs = SFS(lr, k_features='best', forward=True, floating=False, \n",
    "          scoring='neg_mean_squared_error', cv=20)\n",
    "model = sfs.fit(new.drop('Customer Lifetime Value', axis=1),new['Customer Lifetime Value'])\n",
    "fig = plot_sfs(sfs.get_metric_dict(), kind='std_err')\n",
    "plt.title('Sequential Forward Selection (w. StdErr)')\n",
    "plt.grid()\n",
    "plt.show()"
   ]
  },
  {
   "cell_type": "code",
   "execution_count": 106,
   "metadata": {
    "ExecuteTime": {
     "end_time": "2020-01-18T14:45:13.021930Z",
     "start_time": "2020-01-18T14:45:13.013933Z"
    }
   },
   "outputs": [
    {
     "name": "stdout",
     "output_type": "stream",
     "text": [
      "Selected features: (0, 3, 4, 6, 8, 9, 10, 11, 16, 17)\n"
     ]
    }
   ],
   "source": [
    "print('Selected features:', sfs.k_feature_idx_)"
   ]
  },
  {
   "cell_type": "markdown",
   "metadata": {},
   "source": [
    "### Backward"
   ]
  },
  {
   "cell_type": "code",
   "execution_count": 107,
   "metadata": {
    "ExecuteTime": {
     "end_time": "2020-01-18T14:45:47.021507Z",
     "start_time": "2020-01-18T14:45:13.026928Z"
    }
   },
   "outputs": [
    {
     "data": {
      "image/png": "[encoded data removed]",
      "text/plain": [
       "<Figure size 432x288 with 1 Axes>"
      ]
     },
     "metadata": {
      "needs_background": "light"
     },
     "output_type": "display_data"
    }
   ],
   "source": [
    "sfs = SFS(lr, k_features='best', forward=False, floating=False, \n",
    "          scoring='neg_mean_squared_error', cv=20)\n",
    "model = sfs.fit(new.drop('Customer Lifetime Value', axis=1).values,new['Customer Lifetime Value'])\n",
    "fig = plot_sfs(sfs.get_metric_dict(), kind='std_err')\n",
    "plt.title('Sequential Forward Selection (w. StdErr)')\n",
    "plt.grid()\n",
    "plt.show()"
   ]
  },
  {
   "cell_type": "code",
   "execution_count": 108,
   "metadata": {
    "ExecuteTime": {
     "end_time": "2020-01-18T14:45:47.033501Z",
     "start_time": "2020-01-18T14:45:47.026489Z"
    }
   },
   "outputs": [
    {
     "name": "stdout",
     "output_type": "stream",
     "text": [
      "Selected features: (0, 3, 4, 6, 8, 9, 10, 11, 16, 17)\n"
     ]
    }
   ],
   "source": [
    "print('Selected features:', sfs.k_feature_idx_)"
   ]
  },
  {
   "cell_type": "code",
   "execution_count": 109,
   "metadata": {
    "ExecuteTime": {
     "end_time": "2020-01-18T14:45:47.120452Z",
     "start_time": "2020-01-18T14:45:47.036482Z"
    }
   },
   "outputs": [
    {
     "data": {
      "text/plain": [
       "Index(['Monthly Premium Auto', 'Months Since Last Claim',\n",
       "       'Months Since Policy Inception', 'Number of Open Complaints',\n",
       "       'Total Claim Amount', 'Coverage_Extended', 'Coverage_Premium',\n",
       "       'Marital Status_Married', 'Marital Status_Single',\n",
       "       'Number of Policies_2', 'Number of Policies_3',\n",
       "       'Renew Offer Type_Offer2', 'Renew Offer Type_Offer3',\n",
       "       'Renew Offer Type_Offer4', 'Vehicle Class_Luxury Car',\n",
       "       'Vehicle Class_Luxury SUV', 'Vehicle Class_SUV',\n",
       "       'Vehicle Class_Sports Car', 'Vehicle Class_Two-Door Car'],\n",
       "      dtype='object')"
      ]
     },
     "execution_count": 109,
     "metadata": {},
     "output_type": "execute_result"
    }
   ],
   "source": [
    "X.columns"
   ]
  },
  {
   "cell_type": "markdown",
   "metadata": {},
   "source": [
    "- Suprisingly Both the forward and backward selection gave us the same features to select for our model, so we will be sticking to the same feature's."
   ]
  },
  {
   "cell_type": "code",
   "execution_count": 110,
   "metadata": {
    "ExecuteTime": {
     "end_time": "2020-01-18T14:45:54.133722Z",
     "start_time": "2020-01-18T14:45:54.125731Z"
    }
   },
   "outputs": [],
   "source": [
    "test_X = X[['Monthly Premium Auto','Number of Open Complaints','Total Claim Amount','Coverage_Premium','Marital Status_Single','Number of Policies_2','Number of Policies_3','Renew Offer Type_Offer2','Vehicle Class_SUV','Vehicle Class_Sports Car']]"
   ]
  },
  {
   "cell_type": "code",
   "execution_count": 111,
   "metadata": {
    "ExecuteTime": {
     "end_time": "2020-01-18T14:45:54.873369Z",
     "start_time": "2020-01-18T14:45:54.869376Z"
    }
   },
   "outputs": [],
   "source": [
    "train = []\n",
    "test = []"
   ]
  },
  {
   "cell_type": "code",
   "execution_count": 112,
   "metadata": {
    "ExecuteTime": {
     "end_time": "2020-01-18T14:45:55.568686Z",
     "start_time": "2020-01-18T14:45:55.556684Z"
    }
   },
   "outputs": [],
   "source": [
    "X_train,X_test,y_train,y_test = train_test_split(test_X,y,test_size=0.3,random_state=100)"
   ]
  },
  {
   "cell_type": "code",
   "execution_count": 113,
   "metadata": {
    "ExecuteTime": {
     "end_time": "2020-01-18T14:45:56.245874Z",
     "start_time": "2020-01-18T14:45:56.232883Z"
    }
   },
   "outputs": [
    {
     "data": {
      "text/plain": [
       "LinearRegression(copy_X=True, fit_intercept=True, n_jobs=None,\n",
       "         normalize=False)"
      ]
     },
     "execution_count": 113,
     "metadata": {},
     "output_type": "execute_result"
    }
   ],
   "source": [
    "lr.fit(X_train,y_train)"
   ]
  },
  {
   "cell_type": "code",
   "execution_count": 114,
   "metadata": {
    "ExecuteTime": {
     "end_time": "2020-01-18T14:45:56.893366Z",
     "start_time": "2020-01-18T14:45:56.885374Z"
    }
   },
   "outputs": [],
   "source": [
    "test.append(lr.score(X_test,y_test))"
   ]
  },
  {
   "cell_type": "code",
   "execution_count": 115,
   "metadata": {
    "ExecuteTime": {
     "end_time": "2020-01-18T14:45:57.612823Z",
     "start_time": "2020-01-18T14:45:57.602833Z"
    }
   },
   "outputs": [],
   "source": [
    "train.append(lr.score(X_train,y_train))"
   ]
  },
  {
   "cell_type": "markdown",
   "metadata": {},
   "source": [
    "- So we can clearly see that the feature's removed didnt contribute to tell us the differing variance in the data, so it was a good decision to remove those features."
   ]
  },
  {
   "cell_type": "code",
   "execution_count": 116,
   "metadata": {
    "ExecuteTime": {
     "end_time": "2020-01-18T14:45:58.795137Z",
     "start_time": "2020-01-18T14:45:58.790144Z"
    }
   },
   "outputs": [],
   "source": [
    "metrics = [r2_score,mean_absolute_error,mean_absolute_percentage_error,mean_squared_error]"
   ]
  },
  {
   "cell_type": "code",
   "execution_count": 117,
   "metadata": {
    "ExecuteTime": {
     "end_time": "2020-01-18T14:45:59.444693Z",
     "start_time": "2020-01-18T14:45:59.437698Z"
    }
   },
   "outputs": [],
   "source": [
    "y_pred = lr.predict(X_test)"
   ]
  },
  {
   "cell_type": "code",
   "execution_count": 118,
   "metadata": {
    "ExecuteTime": {
     "end_time": "2020-01-18T14:46:00.045786Z",
     "start_time": "2020-01-18T14:46:00.040796Z"
    }
   },
   "outputs": [],
   "source": [
    "r2 = []\n",
    "mae = []\n",
    "mape = []\n",
    "mse = []"
   ]
  },
  {
   "cell_type": "code",
   "execution_count": 119,
   "metadata": {
    "ExecuteTime": {
     "end_time": "2020-01-18T14:46:00.877862Z",
     "start_time": "2020-01-18T14:46:00.801910Z"
    }
   },
   "outputs": [
    {
     "name": "stdout",
     "output_type": "stream",
     "text": [
      "0.6229724358599134\n",
      "2097.807348632866\n",
      "24.17860337907907\n",
      "18228661.804602843\n"
     ]
    }
   ],
   "source": [
    "for i in metrics:\n",
    "    print(i(y_test,y_pred))\n",
    "    if i == r2_score:\n",
    "        r2.append(i(y_test,y_pred))\n",
    "    elif i == mean_absolute_error:\n",
    "        mae.append(i(y_test,y_pred))\n",
    "    elif i == mean_absolute_percentage_error:\n",
    "        mape.append(i(y_test,y_pred))\n",
    "    else:\n",
    "        mse.append(i(y_test,y_pred))"
   ]
  },
  {
   "cell_type": "markdown",
   "metadata": {},
   "source": [
    "- We will consider the r2_Score and the Mean absolute percentage error as the metric's we are going to use to measure the model."
   ]
  },
  {
   "cell_type": "markdown",
   "metadata": {},
   "source": [
    "### Finding the best sample by random state for each model."
   ]
  },
  {
   "cell_type": "code",
   "execution_count": 120,
   "metadata": {
    "ExecuteTime": {
     "end_time": "2020-01-18T14:46:02.666987Z",
     "start_time": "2020-01-18T14:46:02.661992Z"
    }
   },
   "outputs": [],
   "source": [
    "algo = [abr,gbr,dt,et,etr,br,rfr]"
   ]
  },
  {
   "cell_type": "code",
   "execution_count": 121,
   "metadata": {
    "ExecuteTime": {
     "end_time": "2020-01-18T14:56:45.447476Z",
     "start_time": "2020-01-18T14:46:03.398790Z"
    }
   },
   "outputs": [
    {
     "name": "stdout",
     "output_type": "stream",
     "text": [
      "New ModelAdaBoostRegressor(base_estimator=None, learning_rate=1.0, loss='linear',\n",
      "         n_estimators=50, random_state=None)\n",
      "1 0.6326262690786619 0.5400644624800892\n",
      "2 0.6062969791437198 0.5948325039221001\n",
      "3 0.5816093394109334 0.5999360729638203\n",
      "4 0.5936893572791075 0.6014412596990963\n",
      "5 0.6003840797755889 0.6100058783061217\n",
      "14 0.6133078749947632 0.6102791743733709\n",
      "22 0.6130315063314653 0.6154179760437396\n",
      "49 0.6230432918649711 0.6232726467875644\n",
      "80 0.5956580335439663 0.6302213271119299\n",
      "83 0.6216315124917786 0.6466473331356981\n",
      "New ModelGradientBoostingRegressor(alpha=0.9, criterion='friedman_mse', init=None,\n",
      "             learning_rate=0.1, loss='ls', max_depth=3, max_features=None,\n",
      "             max_leaf_nodes=None, min_impurity_decrease=0.0,\n",
      "             min_impurity_split=None, min_samples_leaf=1,\n",
      "             min_samples_split=2, min_weight_fraction_leaf=0.0,\n",
      "             n_estimators=100, n_iter_no_change=None, presort='auto',\n",
      "             random_state=None, subsample=1.0, tol=0.0001,\n",
      "             validation_fraction=0.1, verbose=0, warm_start=False)\n",
      "1 0.754730939118087 0.6567615740288878\n",
      "2 0.7397067584988828 0.6894737964340227\n",
      "4 0.737612916499981 0.6963645000819123\n",
      "35 0.7353567644257683 0.7034273732151483\n",
      "New ModelDecisionTreeRegressor(criterion='mse', max_depth=None, max_features=None,\n",
      "           max_leaf_nodes=None, min_impurity_decrease=0.0,\n",
      "           min_impurity_split=None, min_samples_leaf=1,\n",
      "           min_samples_split=2, min_weight_fraction_leaf=0.0,\n",
      "           presort=False, random_state=None, splitter='best')\n",
      "1 1.0 0.4173738372539562\n",
      "2 1.0 0.4410433880904119\n",
      "3 1.0 0.46375080938115454\n",
      "5 1.0 0.4816366093224451\n",
      "12 1.0 0.4960947337148336\n",
      "16 1.0 0.5111439745182725\n",
      "107 1.0 0.5143727441846311\n",
      "126 1.0 0.5388805009763735\n",
      "159 1.0 0.5398708348105368\n",
      "New ModelExtraTreeRegressor(criterion='mse', max_depth=None, max_features='auto',\n",
      "          max_leaf_nodes=None, min_impurity_decrease=0.0,\n",
      "          min_impurity_split=None, min_samples_leaf=1, min_samples_split=2,\n",
      "          min_weight_fraction_leaf=0.0, random_state=None,\n",
      "          splitter='random')\n",
      "1 1.0 0.3656793543453096\n",
      "2 1.0 0.36592145336597626\n",
      "3 1.0 0.46798099409780114\n",
      "16 1.0 0.4697195780209612\n",
      "18 1.0 0.48021204640008464\n",
      "41 1.0 0.4848440962007655\n",
      "42 1.0 0.5172228086229629\n",
      "106 1.0 0.5227404296407159\n",
      "230 1.0 0.5350368173356119\n",
      "New ModelExtraTreesRegressor(bootstrap=False, criterion='mse', max_depth=None,\n",
      "          max_features='auto', max_leaf_nodes=None,\n",
      "          min_impurity_decrease=0.0, min_impurity_split=None,\n",
      "          min_samples_leaf=1, min_samples_split=2,\n",
      "          min_weight_fraction_leaf=0.0, n_estimators='warn', n_jobs=None,\n",
      "          oob_score=False, random_state=None, verbose=0, warm_start=False)\n",
      "1 1.0 0.6272799519415712\n",
      "2 1.0 0.6592554574103218\n",
      "4 1.0 0.6656232387943308\n",
      "16 1.0 0.679951031748852\n",
      "35 1.0 0.6923390817915003\n",
      "New ModelBaggingRegressor(base_estimator=None, bootstrap=True,\n",
      "         bootstrap_features=False, max_features=1.0, max_samples=1.0,\n",
      "         n_estimators=10, n_jobs=None, oob_score=False, random_state=None,\n",
      "         verbose=0, warm_start=False)\n",
      "1 0.938132911419314 0.6411016892842998\n",
      "2 0.9413831448570239 0.6913418447267912\n",
      "20 0.9384359942943669 0.7022911342153074\n",
      "35 0.9417507162216178 0.7107347793276177\n",
      "New ModelRandomForestRegressor(bootstrap=True, criterion='mse', max_depth=None,\n",
      "           max_features='auto', max_leaf_nodes=None,\n",
      "           min_impurity_decrease=0.0, min_impurity_split=None,\n",
      "           min_samples_leaf=1, min_samples_split=2,\n",
      "           min_weight_fraction_leaf=0.0, n_estimators='warn', n_jobs=None,\n",
      "           oob_score=False, random_state=None, verbose=0, warm_start=False)\n",
      "1 0.9386023471894483 0.6363151931023163\n",
      "2 0.9344283851592158 0.6858397103690992\n",
      "35 0.9398376940675865 0.6952852283695768\n",
      "104 0.9369841672537897 0.7117296753579542\n",
      "182 0.9380758050192955 0.7123196065019082\n"
     ]
    }
   ],
   "source": [
    "for i in algo:\n",
    "    temp = 0\n",
    "    print(f\"New Model{i}\")\n",
    "    for j in range(1,300,1):\n",
    "        NXT,NXt,NYT,NYt = train_test_split(X,y,test_size=0.3,random_state=j)\n",
    "        i.fit(NXT,NYT)\n",
    "        test_score = i.score(NXt,NYt)\n",
    "        train_score = i.score(NXT,NYT)\n",
    "        if test_score>temp:\n",
    "            temp = test_score\n",
    "            print(j,train_score,temp)"
   ]
  },
  {
   "cell_type": "markdown",
   "metadata": {},
   "source": [
    "We can see the best sample for each model, and we can also see which model is a good fit and which model is overfitting/underfitting model.\n",
    "- AdaBoost is good model, but we will have to check for the metric's\n",
    "- Gradient Boosting is the best model comparitively, again we will check for the metric's\n",
    "- DecisionTree and the Extra Tree regressor model's are not working better for this data set , as the model is completing over fitting, we will check their metric's as well, but we wont use it for modelling.\n",
    "- Bagging and random forest regressor model's are again overfitting model, which are not good model's are this data set, but again we will check the metrics."
   ]
  },
  {
   "cell_type": "markdown",
   "metadata": {},
   "source": [
    "# Decision Tree Regressor."
   ]
  },
  {
   "cell_type": "code",
   "execution_count": 122,
   "metadata": {
    "ExecuteTime": {
     "end_time": "2020-01-18T14:56:56.230821Z",
     "start_time": "2020-01-18T14:56:56.216827Z"
    }
   },
   "outputs": [],
   "source": [
    "X_train,X_test,y_train,y_test = train_test_split(X,y,test_size=0.3,random_state=159)"
   ]
  },
  {
   "cell_type": "code",
   "execution_count": 123,
   "metadata": {
    "ExecuteTime": {
     "end_time": "2020-01-18T14:56:57.031963Z",
     "start_time": "2020-01-18T14:56:56.965999Z"
    }
   },
   "outputs": [
    {
     "data": {
      "text/plain": [
       "DecisionTreeRegressor(criterion='mse', max_depth=None, max_features=None,\n",
       "           max_leaf_nodes=None, min_impurity_decrease=0.0,\n",
       "           min_impurity_split=None, min_samples_leaf=1,\n",
       "           min_samples_split=2, min_weight_fraction_leaf=0.0,\n",
       "           presort=False, random_state=None, splitter='best')"
      ]
     },
     "execution_count": 123,
     "metadata": {},
     "output_type": "execute_result"
    }
   ],
   "source": [
    "dt.fit(X_train,y_train)"
   ]
  },
  {
   "cell_type": "code",
   "execution_count": 124,
   "metadata": {
    "ExecuteTime": {
     "end_time": "2020-01-18T14:56:57.753293Z",
     "start_time": "2020-01-18T14:56:57.745299Z"
    }
   },
   "outputs": [],
   "source": [
    "y_pred_dt = dt.predict(X_test)"
   ]
  },
  {
   "cell_type": "code",
   "execution_count": 125,
   "metadata": {
    "ExecuteTime": {
     "end_time": "2020-01-18T14:56:58.675354Z",
     "start_time": "2020-01-18T14:56:58.655365Z"
    }
   },
   "outputs": [
    {
     "name": "stdout",
     "output_type": "stream",
     "text": [
      "0.5250649822821916\n",
      "1620.0051823651954\n",
      "12.743255417341913\n",
      "23427519.916846525\n"
     ]
    }
   ],
   "source": [
    "for i in metrics:\n",
    "    print(i(y_test,y_pred_dt))\n",
    "    if i == r2_score:\n",
    "        r2.append(i(y_test,y_pred_dt))\n",
    "    elif i == mean_absolute_error:\n",
    "        mae.append(i(y_test,y_pred_dt))\n",
    "    elif i == mean_absolute_percentage_error:\n",
    "        mape.append(i(y_test,y_pred_dt))\n",
    "    else:\n",
    "        mse.append(i(y_test,y_pred_dt))"
   ]
  },
  {
   "cell_type": "code",
   "execution_count": 126,
   "metadata": {
    "ExecuteTime": {
     "end_time": "2020-01-18T14:56:59.464414Z",
     "start_time": "2020-01-18T14:56:59.447423Z"
    }
   },
   "outputs": [],
   "source": [
    "train.append(dt.score(X_train,y_train))\n",
    "test.append(dt.score(X_test,y_test))"
   ]
  },
  {
   "cell_type": "markdown",
   "metadata": {},
   "source": [
    "### Extra Tree Regressor."
   ]
  },
  {
   "cell_type": "code",
   "execution_count": 127,
   "metadata": {
    "ExecuteTime": {
     "end_time": "2020-01-18T14:57:00.797879Z",
     "start_time": "2020-01-18T14:57:00.784885Z"
    }
   },
   "outputs": [],
   "source": [
    "X_train,X_test,y_train,y_test = train_test_split(X,y,test_size=0.3,random_state=69)"
   ]
  },
  {
   "cell_type": "code",
   "execution_count": 128,
   "metadata": {
    "ExecuteTime": {
     "end_time": "2020-01-18T14:57:01.564196Z",
     "start_time": "2020-01-18T14:57:01.525237Z"
    }
   },
   "outputs": [
    {
     "data": {
      "text/plain": [
       "ExtraTreeRegressor(criterion='mse', max_depth=None, max_features='auto',\n",
       "          max_leaf_nodes=None, min_impurity_decrease=0.0,\n",
       "          min_impurity_split=None, min_samples_leaf=1, min_samples_split=2,\n",
       "          min_weight_fraction_leaf=0.0, random_state=None,\n",
       "          splitter='random')"
      ]
     },
     "execution_count": 128,
     "metadata": {},
     "output_type": "execute_result"
    }
   ],
   "source": [
    "et.fit(X_train,y_train)"
   ]
  },
  {
   "cell_type": "code",
   "execution_count": 129,
   "metadata": {
    "ExecuteTime": {
     "end_time": "2020-01-18T14:57:02.264327Z",
     "start_time": "2020-01-18T14:57:02.255332Z"
    }
   },
   "outputs": [],
   "source": [
    "y_pred_et = et.predict(X_test)"
   ]
  },
  {
   "cell_type": "code",
   "execution_count": 130,
   "metadata": {
    "ExecuteTime": {
     "end_time": "2020-01-18T14:57:03.045508Z",
     "start_time": "2020-01-18T14:57:03.029525Z"
    }
   },
   "outputs": [
    {
     "name": "stdout",
     "output_type": "stream",
     "text": [
      "0.40175602324530146\n",
      "1865.8145924166365\n",
      "14.019911736031585\n",
      "28620613.82858105\n"
     ]
    }
   ],
   "source": [
    "for i in metrics:\n",
    "    print(i(y_test,y_pred_et))\n",
    "    if i == r2_score:\n",
    "        r2.append(i(y_test,y_pred_et))\n",
    "    elif i == mean_absolute_error:\n",
    "        mae.append(i(y_test,y_pred_et))\n",
    "    elif i == mean_absolute_percentage_error:\n",
    "        mape.append(i(y_test,y_pred_et))\n",
    "    else:\n",
    "        mse.append(i(y_test,y_pred_et))"
   ]
  },
  {
   "cell_type": "code",
   "execution_count": 131,
   "metadata": {
    "ExecuteTime": {
     "end_time": "2020-01-18T14:57:03.814763Z",
     "start_time": "2020-01-18T14:57:03.798764Z"
    }
   },
   "outputs": [],
   "source": [
    "train.append(et.score(X_train,y_train))\n",
    "test.append(et.score(X_test,y_test))"
   ]
  },
  {
   "cell_type": "code",
   "execution_count": 132,
   "metadata": {
    "ExecuteTime": {
     "end_time": "2020-01-18T14:57:04.482098Z",
     "start_time": "2020-01-18T14:57:04.462112Z"
    }
   },
   "outputs": [
    {
     "data": {
      "text/html": [
       "<div>\n",
       "<style scoped>\n",
       "    .dataframe tbody tr th:only-of-type {\n",
       "        vertical-align: middle;\n",
       "    }\n",
       "\n",
       "    .dataframe tbody tr th {\n",
       "        vertical-align: top;\n",
       "    }\n",
       "\n",
       "    .dataframe thead th {\n",
       "        text-align: right;\n",
       "    }\n",
       "</style>\n",
       "<table border=\"1\" class=\"dataframe\">\n",
       "  <thead>\n",
       "    <tr style=\"text-align: right;\">\n",
       "      <th></th>\n",
       "      <th>Model</th>\n",
       "      <th>R2_Score</th>\n",
       "      <th>MAE</th>\n",
       "      <th>MAPE</th>\n",
       "      <th>MSE</th>\n",
       "    </tr>\n",
       "  </thead>\n",
       "  <tbody>\n",
       "    <tr>\n",
       "      <th>0</th>\n",
       "      <td>Linear Regression</td>\n",
       "      <td>0.622972</td>\n",
       "      <td>2097.807349</td>\n",
       "      <td>24.178603</td>\n",
       "      <td>1.822866e+07</td>\n",
       "    </tr>\n",
       "    <tr>\n",
       "      <th>1</th>\n",
       "      <td>Decision Tree</td>\n",
       "      <td>0.525065</td>\n",
       "      <td>1620.005182</td>\n",
       "      <td>12.743255</td>\n",
       "      <td>2.342752e+07</td>\n",
       "    </tr>\n",
       "    <tr>\n",
       "      <th>2</th>\n",
       "      <td>Extra Tree</td>\n",
       "      <td>0.401756</td>\n",
       "      <td>1865.814592</td>\n",
       "      <td>14.019912</td>\n",
       "      <td>2.862061e+07</td>\n",
       "    </tr>\n",
       "  </tbody>\n",
       "</table>\n",
       "</div>"
      ],
      "text/plain": [
       "               Model  R2_Score          MAE       MAPE           MSE\n",
       "0  Linear Regression  0.622972  2097.807349  24.178603  1.822866e+07\n",
       "1      Decision Tree  0.525065  1620.005182  12.743255  2.342752e+07\n",
       "2         Extra Tree  0.401756  1865.814592  14.019912  2.862061e+07"
      ]
     },
     "execution_count": 132,
     "metadata": {},
     "output_type": "execute_result"
    }
   ],
   "source": [
    "pd.DataFrame({'Model':['Linear Regression','Decision Tree','Extra Tree'],'R2_Score':r2,'MAE':mae,'MAPE':mape,'MSE':mse})"
   ]
  },
  {
   "cell_type": "markdown",
   "metadata": {},
   "source": [
    "- We can clearly see that the Linear Regression model is having the best r2_Score, and decision tree and extra tree regressor have no better accuracy that so we will have to build our model using ensemlle technique's, boosting and bagging."
   ]
  },
  {
   "cell_type": "markdown",
   "metadata": {},
   "source": [
    "# ENSEMBLE METHODS."
   ]
  },
  {
   "cell_type": "code",
   "execution_count": 133,
   "metadata": {
    "ExecuteTime": {
     "end_time": "2020-01-18T14:57:06.546715Z",
     "start_time": "2020-01-18T14:57:06.540720Z"
    }
   },
   "outputs": [],
   "source": [
    "from sklearn.ensemble import AdaBoostRegressor\n",
    "from sklearn.ensemble import BaggingRegressor\n",
    "from sklearn.ensemble import ExtraTreesRegressor\n",
    "from sklearn.ensemble import GradientBoostingRegressor\n",
    "from sklearn.ensemble import RandomForestRegressor"
   ]
  },
  {
   "cell_type": "markdown",
   "metadata": {},
   "source": [
    "### AdaBoost."
   ]
  },
  {
   "cell_type": "code",
   "execution_count": 134,
   "metadata": {
    "ExecuteTime": {
     "end_time": "2020-01-18T14:57:07.919892Z",
     "start_time": "2020-01-18T14:57:07.908891Z"
    }
   },
   "outputs": [],
   "source": [
    "X_train,X_test,y_train,y_test = train_test_split(X,y,test_size=0.3,random_state=83)"
   ]
  },
  {
   "cell_type": "code",
   "execution_count": 135,
   "metadata": {
    "ExecuteTime": {
     "end_time": "2020-01-18T14:57:09.489000Z",
     "start_time": "2020-01-18T14:57:09.026267Z"
    }
   },
   "outputs": [
    {
     "data": {
      "text/plain": [
       "AdaBoostRegressor(base_estimator=None, learning_rate=1.0, loss='linear',\n",
       "         n_estimators=50, random_state=None)"
      ]
     },
     "execution_count": 135,
     "metadata": {},
     "output_type": "execute_result"
    }
   ],
   "source": [
    "abr.fit(X_train,y_train)"
   ]
  },
  {
   "cell_type": "code",
   "execution_count": 136,
   "metadata": {
    "ExecuteTime": {
     "end_time": "2020-01-18T14:57:09.524979Z",
     "start_time": "2020-01-18T14:57:09.493997Z"
    }
   },
   "outputs": [],
   "source": [
    "y_pred_abr = abr.predict(X_test)"
   ]
  },
  {
   "cell_type": "code",
   "execution_count": 137,
   "metadata": {
    "ExecuteTime": {
     "end_time": "2020-01-18T14:57:10.634346Z",
     "start_time": "2020-01-18T14:57:10.613358Z"
    }
   },
   "outputs": [
    {
     "name": "stdout",
     "output_type": "stream",
     "text": [
      "0.6369149054156615\n",
      "2703.4921330811285\n",
      "30.384926540318247\n",
      "19309559.953860115\n"
     ]
    }
   ],
   "source": [
    "for i in metrics:\n",
    "    print(i(y_test,y_pred_abr))\n",
    "    if i == r2_score:\n",
    "        r2.append(i(y_test,y_pred_abr))\n",
    "    elif i == mean_absolute_error:\n",
    "        mae.append(i(y_test,y_pred_abr))\n",
    "    elif i == mean_absolute_percentage_error:\n",
    "        mape.append(i(y_test,y_pred_abr))\n",
    "    else:\n",
    "        mse.append(i(y_test,y_pred_abr))"
   ]
  },
  {
   "cell_type": "code",
   "execution_count": 138,
   "metadata": {
    "ExecuteTime": {
     "end_time": "2020-01-18T14:57:11.652763Z",
     "start_time": "2020-01-18T14:57:11.611787Z"
    }
   },
   "outputs": [],
   "source": [
    "train.append(abr.score(X_train,y_train))\n",
    "test.append(abr.score(X_test,y_test))"
   ]
  },
  {
   "cell_type": "markdown",
   "metadata": {},
   "source": [
    "### Bagging."
   ]
  },
  {
   "cell_type": "code",
   "execution_count": 139,
   "metadata": {
    "ExecuteTime": {
     "end_time": "2020-01-18T14:57:13.896952Z",
     "start_time": "2020-01-18T14:57:13.487173Z"
    }
   },
   "outputs": [
    {
     "name": "stdout",
     "output_type": "stream",
     "text": [
      "0.7019718779086379\n",
      "1512.9063818604889\n",
      "11.463473356315303\n",
      "15168993.556828037\n"
     ]
    }
   ],
   "source": [
    "X_train,X_test,y_train,y_test = train_test_split(X,y,test_size=0.3,random_state=292)\n",
    "br.fit(X_train,y_train)\n",
    "y_pred_br = br.predict(X_test)\n",
    "for i in metrics:\n",
    "    print(i(y_test,y_pred_br))\n",
    "    if i == r2_score:\n",
    "        r2.append(i(y_test,y_pred_br))\n",
    "    elif i == mean_absolute_error:\n",
    "        mae.append(i(y_test,y_pred_br))\n",
    "    elif i == mean_absolute_percentage_error:\n",
    "        mape.append(i(y_test,y_pred_br))\n",
    "    else:\n",
    "        mse.append(i(y_test,y_pred_br))"
   ]
  },
  {
   "cell_type": "code",
   "execution_count": 140,
   "metadata": {
    "ExecuteTime": {
     "end_time": "2020-01-18T14:57:14.449986Z",
     "start_time": "2020-01-18T14:57:14.401019Z"
    }
   },
   "outputs": [],
   "source": [
    "train.append(br.score(X_train,y_train))\n",
    "test.append(br.score(X_test,y_test))"
   ]
  },
  {
   "cell_type": "markdown",
   "metadata": {},
   "source": [
    "### Extra Tree's."
   ]
  },
  {
   "cell_type": "code",
   "execution_count": 141,
   "metadata": {
    "ExecuteTime": {
     "end_time": "2020-01-18T14:57:16.385005Z",
     "start_time": "2020-01-18T14:57:15.908263Z"
    }
   },
   "outputs": [
    {
     "name": "stdout",
     "output_type": "stream",
     "text": [
      "0.6446557200344891\n",
      "1582.6296163632983\n",
      "12.205749653200321\n",
      "17000039.796904147\n"
     ]
    }
   ],
   "source": [
    "X_train,X_test,y_train,y_test = train_test_split(X,y,test_size=0.3,random_state=69)\n",
    "etr.fit(X_train,y_train)\n",
    "y_pred_etr = etr.predict(X_test)\n",
    "for i in metrics:\n",
    "    print(i(y_test,y_pred_etr))\n",
    "    if i == r2_score:\n",
    "        r2.append(i(y_test,y_pred_etr))\n",
    "    elif i == mean_absolute_error:\n",
    "        mae.append(i(y_test,y_pred_etr))\n",
    "    elif i == mean_absolute_percentage_error:\n",
    "        mape.append(i(y_test,y_pred_etr))\n",
    "    else:\n",
    "        mse.append(i(y_test,y_pred_etr))"
   ]
  },
  {
   "cell_type": "code",
   "execution_count": 142,
   "metadata": {
    "ExecuteTime": {
     "end_time": "2020-01-18T14:57:16.972520Z",
     "start_time": "2020-01-18T14:57:16.918555Z"
    }
   },
   "outputs": [],
   "source": [
    "train.append(etr.score(X_train,y_train))\n",
    "test.append(etr.score(X_test,y_test))"
   ]
  },
  {
   "cell_type": "markdown",
   "metadata": {},
   "source": [
    "### Gradient Boosting."
   ]
  },
  {
   "cell_type": "code",
   "execution_count": 143,
   "metadata": {
    "ExecuteTime": {
     "end_time": "2020-01-18T14:57:19.081773Z",
     "start_time": "2020-01-18T14:57:18.450138Z"
    }
   },
   "outputs": [
    {
     "name": "stdout",
     "output_type": "stream",
     "text": [
      "0.7031716282269549\n",
      "1719.7743708069277\n",
      "13.83786706804478\n",
      "14773304.94031929\n"
     ]
    }
   ],
   "source": [
    "X_train,X_test,y_train,y_test = train_test_split(X,y,test_size=0.3,random_state=181)\n",
    "gbr.fit(X_train,y_train)\n",
    "y_pred_gbr = gbr.predict(X_test)\n",
    "for i in metrics:\n",
    "    print(i(y_test,y_pred_gbr))\n",
    "    if i == r2_score:\n",
    "        r2.append(i(y_test,y_pred_gbr))\n",
    "    elif i == mean_absolute_error:\n",
    "        mae.append(i(y_test,y_pred_gbr))\n",
    "    elif i == mean_absolute_percentage_error:\n",
    "        mape.append(i(y_test,y_pred_gbr))\n",
    "    else:\n",
    "        mse.append(i(y_test,y_pred_gbr))"
   ]
  },
  {
   "cell_type": "code",
   "execution_count": 144,
   "metadata": {
    "ExecuteTime": {
     "end_time": "2020-01-18T14:57:19.860010Z",
     "start_time": "2020-01-18T14:57:19.824035Z"
    }
   },
   "outputs": [],
   "source": [
    "train.append(gbr.score(X_train,y_train))\n",
    "test.append(gbr.score(X_test,y_test))"
   ]
  },
  {
   "cell_type": "markdown",
   "metadata": {},
   "source": [
    "### Random Forest."
   ]
  },
  {
   "cell_type": "code",
   "execution_count": 145,
   "metadata": {
    "ExecuteTime": {
     "end_time": "2020-01-18T14:57:21.729907Z",
     "start_time": "2020-01-18T14:57:21.348110Z"
    }
   },
   "outputs": [
    {
     "name": "stdout",
     "output_type": "stream",
     "text": [
      "0.6996082775105452\n",
      "1514.6716673820868\n",
      "11.866304716540418\n",
      "14350425.586053815\n"
     ]
    }
   ],
   "source": [
    "X_train,X_test,y_train,y_test = train_test_split(X,y,test_size=0.3,random_state=35)\n",
    "rfr.fit(X_train,y_train)\n",
    "y_pred_rfr = rfr.predict(X_test)\n",
    "for i in metrics:\n",
    "    print(i(y_test,y_pred_rfr))\n",
    "    if i == r2_score:\n",
    "        r2.append(i(y_test,y_pred_rfr))\n",
    "    elif i == mean_absolute_error:\n",
    "        mae.append(i(y_test,y_pred_rfr))\n",
    "    elif i == mean_absolute_percentage_error:\n",
    "        mape.append(i(y_test,y_pred_rfr))\n",
    "    else:\n",
    "        mse.append(i(y_test,y_pred_rfr))"
   ]
  },
  {
   "cell_type": "code",
   "execution_count": 146,
   "metadata": {
    "ExecuteTime": {
     "end_time": "2020-01-18T14:57:22.339984Z",
     "start_time": "2020-01-18T14:57:22.301008Z"
    }
   },
   "outputs": [],
   "source": [
    "train.append(rfr.score(X_train,y_train))\n",
    "test.append(rfr.score(X_test,y_test))"
   ]
  },
  {
   "cell_type": "markdown",
   "metadata": {},
   "source": [
    "- Of all the model's we are inclined to choose gradient boosting as the next model, and furthur tweak the hyper parameter's of the model and also put this boosting model into bagging regressor and check for the model accuracy."
   ]
  },
  {
   "cell_type": "markdown",
   "metadata": {},
   "source": [
    "# NEXT MODEL:"
   ]
  },
  {
   "cell_type": "code",
   "execution_count": 147,
   "metadata": {
    "ExecuteTime": {
     "end_time": "2020-01-18T14:57:24.463044Z",
     "start_time": "2020-01-18T14:57:24.457051Z"
    }
   },
   "outputs": [],
   "source": [
    "hyper_params_gbr = {'loss':['ls','lad','huber'],'learning_rate':[0.1,0.01,1],'n_estimators':[100,150]}"
   ]
  },
  {
   "cell_type": "code",
   "execution_count": 148,
   "metadata": {
    "ExecuteTime": {
     "end_time": "2020-01-18T14:57:25.306742Z",
     "start_time": "2020-01-18T14:57:25.302744Z"
    }
   },
   "outputs": [],
   "source": [
    "gbr2 = GradientBoostingRegressor()"
   ]
  },
  {
   "cell_type": "code",
   "execution_count": 149,
   "metadata": {
    "ExecuteTime": {
     "end_time": "2020-01-18T14:57:26.061388Z",
     "start_time": "2020-01-18T14:57:26.056393Z"
    }
   },
   "outputs": [],
   "source": [
    "model = GridSearchCV(gbr2,param_grid=hyper_params_gbr)"
   ]
  },
  {
   "cell_type": "code",
   "execution_count": 150,
   "metadata": {
    "ExecuteTime": {
     "end_time": "2020-01-18T14:57:26.712174Z",
     "start_time": "2020-01-18T14:57:26.699172Z"
    }
   },
   "outputs": [],
   "source": [
    "X_train,X_test,y_train,y_test = train_test_split(X,y,test_size=0.3,random_state=181)"
   ]
  },
  {
   "cell_type": "code",
   "execution_count": 151,
   "metadata": {
    "ExecuteTime": {
     "end_time": "2020-01-18T14:58:07.024470Z",
     "start_time": "2020-01-18T14:57:27.523947Z"
    }
   },
   "outputs": [
    {
     "data": {
      "text/plain": [
       "GridSearchCV(cv='warn', error_score='raise-deprecating',\n",
       "       estimator=GradientBoostingRegressor(alpha=0.9, criterion='friedman_mse', init=None,\n",
       "             learning_rate=0.1, loss='ls', max_depth=3, max_features=None,\n",
       "             max_leaf_nodes=None, min_impurity_decrease=0.0,\n",
       "             min_impurity_split=None, min_samples_leaf=1,\n",
       "             min_sampl...=None, subsample=1.0, tol=0.0001,\n",
       "             validation_fraction=0.1, verbose=0, warm_start=False),\n",
       "       fit_params=None, iid='warn', n_jobs=None,\n",
       "       param_grid={'loss': ['ls', 'lad', 'huber'], 'learning_rate': [0.1, 0.01, 1], 'n_estimators': [100, 150]},\n",
       "       pre_dispatch='2*n_jobs', refit=True, return_train_score='warn',\n",
       "       scoring=None, verbose=0)"
      ]
     },
     "execution_count": 151,
     "metadata": {},
     "output_type": "execute_result"
    }
   ],
   "source": [
    "model.fit(X_train,y_train)"
   ]
  },
  {
   "cell_type": "code",
   "execution_count": 152,
   "metadata": {
    "ExecuteTime": {
     "end_time": "2020-01-18T14:58:07.047457Z",
     "start_time": "2020-01-18T14:58:07.028452Z"
    }
   },
   "outputs": [
    {
     "data": {
      "text/plain": [
       "0.703125605876096"
      ]
     },
     "execution_count": 152,
     "metadata": {},
     "output_type": "execute_result"
    }
   ],
   "source": [
    "model.score(X_test,y_test)"
   ]
  },
  {
   "cell_type": "code",
   "execution_count": 153,
   "metadata": {
    "ExecuteTime": {
     "end_time": "2020-01-18T14:58:07.197357Z",
     "start_time": "2020-01-18T14:58:07.051438Z"
    }
   },
   "outputs": [
    {
     "data": {
      "text/plain": [
       "0.7371078414289501"
      ]
     },
     "execution_count": 153,
     "metadata": {},
     "output_type": "execute_result"
    }
   ],
   "source": [
    "model.score(X_train,y_train)"
   ]
  },
  {
   "cell_type": "code",
   "execution_count": 154,
   "metadata": {
    "ExecuteTime": {
     "end_time": "2020-01-18T14:58:07.319276Z",
     "start_time": "2020-01-18T14:58:07.201354Z"
    }
   },
   "outputs": [
    {
     "data": {
      "text/plain": [
       "{'learning_rate': 0.1, 'loss': 'ls', 'n_estimators': 100}"
      ]
     },
     "execution_count": 154,
     "metadata": {},
     "output_type": "execute_result"
    }
   ],
   "source": [
    "model.best_params_"
   ]
  },
  {
   "cell_type": "markdown",
   "metadata": {},
   "source": [
    "- These are the default parameter's of the model so no hyper parameter tuning for this model is required, let us try and put this model into the bagging regressor."
   ]
  },
  {
   "cell_type": "markdown",
   "metadata": {},
   "source": [
    "# Final Model(Boosting+bagging)."
   ]
  },
  {
   "cell_type": "code",
   "execution_count": 155,
   "metadata": {
    "ExecuteTime": {
     "end_time": "2020-01-18T14:58:17.914130Z",
     "start_time": "2020-01-18T14:58:17.910134Z"
    }
   },
   "outputs": [],
   "source": [
    "gbr2 = GradientBoostingRegressor()"
   ]
  },
  {
   "cell_type": "code",
   "execution_count": 156,
   "metadata": {
    "ExecuteTime": {
     "end_time": "2020-01-18T14:58:18.456337Z",
     "start_time": "2020-01-18T14:58:18.451343Z"
    }
   },
   "outputs": [],
   "source": [
    "br2 = BaggingRegressor(gbr2)"
   ]
  },
  {
   "cell_type": "markdown",
   "metadata": {},
   "source": [
    "### Finding the best sample."
   ]
  },
  {
   "cell_type": "code",
   "execution_count": 157,
   "metadata": {
    "ExecuteTime": {
     "end_time": "2020-01-18T15:27:54.928130Z",
     "start_time": "2020-01-18T14:58:19.409014Z"
    }
   },
   "outputs": [
    {
     "name": "stdout",
     "output_type": "stream",
     "text": [
      "1 0.7489079206933623 0.6680556490667253\n",
      "2 0.7393446710650456 0.6976409537167833\n",
      "35 0.7327995717622503 0.707436803828303\n",
      "181 0.7328154984848746 0.7103179754832538\n"
     ]
    }
   ],
   "source": [
    "temp = 0\n",
    "for j in range(1,300,1):\n",
    "    NXT,NXt,NYT,NYt = train_test_split(X,y,test_size=0.3,random_state=j)\n",
    "    br2.fit(NXT,NYT)\n",
    "    test_score = br2.score(NXt,NYt)\n",
    "    train_score = br2.score(NXT,NYT)\n",
    "    if test_score>temp:\n",
    "        temp = test_score\n",
    "        print(j,train_score,temp)"
   ]
  },
  {
   "cell_type": "code",
   "execution_count": 158,
   "metadata": {
    "ExecuteTime": {
     "end_time": "2020-01-18T15:28:00.681825Z",
     "start_time": "2020-01-18T15:27:54.931112Z"
    }
   },
   "outputs": [
    {
     "name": "stdout",
     "output_type": "stream",
     "text": [
      "0.6962045582655805\n",
      "1654.0040559306988\n",
      "13.6752726115474\n",
      "13097449.539905021\n"
     ]
    }
   ],
   "source": [
    "X_train,X_test,y_train,y_test = train_test_split(X,y,test_size=0.3,random_state=87)\n",
    "br2.fit(X_train,y_train)\n",
    "y_pred_br2 = br2.predict(X_test)\n",
    "for i in metrics:\n",
    "    \n",
    "    print(i(y_test,y_pred_br2))\n",
    "    if i == r2_score:\n",
    "        r2.append(i(y_test,y_pred_br2))\n",
    "    elif i == mean_absolute_error:\n",
    "        mae.append(i(y_test,y_pred_br2))\n",
    "    elif i == mean_absolute_percentage_error:\n",
    "        mape.append(i(y_test,y_pred_br2))\n",
    "    else:\n",
    "        mse.append(i(y_test,y_pred_br2))"
   ]
  },
  {
   "cell_type": "code",
   "execution_count": 159,
   "metadata": {
    "ExecuteTime": {
     "end_time": "2020-01-18T15:28:00.957668Z",
     "start_time": "2020-01-18T15:28:00.685809Z"
    }
   },
   "outputs": [],
   "source": [
    "train.append(br2.score(X_train,y_train))\n",
    "test.append(br2.score(X_test,y_test))"
   ]
  },
  {
   "cell_type": "markdown",
   "metadata": {},
   "source": [
    "# Using KFold Validation:"
   ]
  },
  {
   "cell_type": "code",
   "execution_count": 160,
   "metadata": {
    "ExecuteTime": {
     "end_time": "2020-01-18T15:32:51.501648Z",
     "start_time": "2020-01-18T15:31:37.065048Z"
    }
   },
   "outputs": [],
   "source": [
    "test_scores = []\n",
    "train_scores = []\n",
    "cv = KFold(n_splits=10,random_state=42, shuffle=False)\n",
    "for train_index,test_index in cv.split(X):\n",
    "    X_train, X_test, y_train, y_test = X.iloc[train_index], X.iloc[test_index], y.iloc[train_index], y.iloc[test_index]\n",
    "    br2.fit(X_train,y_train)\n",
    "    test_scores.append(br.score(X_test, y_test))\n",
    "    train_scores.append(br.score(X_train, y_train))"
   ]
  },
  {
   "cell_type": "code",
   "execution_count": 161,
   "metadata": {
    "ExecuteTime": {
     "end_time": "2020-01-18T15:32:56.743549Z",
     "start_time": "2020-01-18T15:32:56.735540Z"
    }
   },
   "outputs": [
    {
     "data": {
      "text/plain": [
       "0.8581414422839991"
      ]
     },
     "execution_count": 161,
     "metadata": {},
     "output_type": "execute_result"
    }
   ],
   "source": [
    "np.mean(train_scores)"
   ]
  },
  {
   "cell_type": "code",
   "execution_count": 162,
   "metadata": {
    "ExecuteTime": {
     "end_time": "2020-01-18T15:32:57.486317Z",
     "start_time": "2020-01-18T15:32:57.478324Z"
    }
   },
   "outputs": [
    {
     "data": {
      "text/plain": [
       "0.8572058933490025"
      ]
     },
     "execution_count": 162,
     "metadata": {},
     "output_type": "execute_result"
    }
   ],
   "source": [
    "np.mean(test_scores)"
   ]
  },
  {
   "cell_type": "markdown",
   "metadata": {},
   "source": [
    "**We can see that after using KFold validation we got our average training accuracy to be 86.45 and average testing accuracy to be 86.30, OUR final model is bagging regressor with base estimator gradient boosting regressor.**"
   ]
  },
  {
   "cell_type": "code",
   "execution_count": 163,
   "metadata": {
    "ExecuteTime": {
     "end_time": "2020-01-18T15:32:58.641096Z",
     "start_time": "2020-01-18T15:32:58.630120Z"
    }
   },
   "outputs": [],
   "source": [
    "ALL_SCORES = pd.DataFrame({'Model':['Linear Regression','Decision Tree','Extra Tree','AdaBoost','Bagging',\n",
    "                                    'Extra Trees','GradientBoosting','Random Forest','Final_Model'],\n",
    "                           'Training_Score':train,'Testing_Score':test,'R2_Score':r2,'MAE':mae,'MAPE':mape,'MSE':mse})"
   ]
  },
  {
   "cell_type": "code",
   "execution_count": 164,
   "metadata": {
    "ExecuteTime": {
     "end_time": "2020-01-18T15:32:59.244344Z",
     "start_time": "2020-01-18T15:32:59.144386Z"
    }
   },
   "outputs": [
    {
     "data": {
      "text/html": [
       "<div>\n",
       "<style scoped>\n",
       "    .dataframe tbody tr th:only-of-type {\n",
       "        vertical-align: middle;\n",
       "    }\n",
       "\n",
       "    .dataframe tbody tr th {\n",
       "        vertical-align: top;\n",
       "    }\n",
       "\n",
       "    .dataframe thead th {\n",
       "        text-align: right;\n",
       "    }\n",
       "</style>\n",
       "<table border=\"1\" class=\"dataframe\">\n",
       "  <thead>\n",
       "    <tr style=\"text-align: right;\">\n",
       "      <th></th>\n",
       "      <th>Model</th>\n",
       "      <th>Training_Score</th>\n",
       "      <th>Testing_Score</th>\n",
       "      <th>R2_Score</th>\n",
       "      <th>MAE</th>\n",
       "      <th>MAPE</th>\n",
       "      <th>MSE</th>\n",
       "    </tr>\n",
       "  </thead>\n",
       "  <tbody>\n",
       "    <tr>\n",
       "      <th>0</th>\n",
       "      <td>Linear Regression</td>\n",
       "      <td>0.638623</td>\n",
       "      <td>0.622972</td>\n",
       "      <td>0.622972</td>\n",
       "      <td>2097.807349</td>\n",
       "      <td>24.178603</td>\n",
       "      <td>1.822866e+07</td>\n",
       "    </tr>\n",
       "    <tr>\n",
       "      <th>1</th>\n",
       "      <td>Decision Tree</td>\n",
       "      <td>1.000000</td>\n",
       "      <td>0.525065</td>\n",
       "      <td>0.525065</td>\n",
       "      <td>1620.005182</td>\n",
       "      <td>12.743255</td>\n",
       "      <td>2.342752e+07</td>\n",
       "    </tr>\n",
       "    <tr>\n",
       "      <th>2</th>\n",
       "      <td>Extra Tree</td>\n",
       "      <td>1.000000</td>\n",
       "      <td>0.401756</td>\n",
       "      <td>0.401756</td>\n",
       "      <td>1865.814592</td>\n",
       "      <td>14.019912</td>\n",
       "      <td>2.862061e+07</td>\n",
       "    </tr>\n",
       "    <tr>\n",
       "      <th>3</th>\n",
       "      <td>AdaBoost</td>\n",
       "      <td>0.601860</td>\n",
       "      <td>0.636915</td>\n",
       "      <td>0.636915</td>\n",
       "      <td>2703.492133</td>\n",
       "      <td>30.384927</td>\n",
       "      <td>1.930956e+07</td>\n",
       "    </tr>\n",
       "    <tr>\n",
       "      <th>4</th>\n",
       "      <td>Bagging</td>\n",
       "      <td>0.932844</td>\n",
       "      <td>0.701972</td>\n",
       "      <td>0.701972</td>\n",
       "      <td>1512.906382</td>\n",
       "      <td>11.463473</td>\n",
       "      <td>1.516899e+07</td>\n",
       "    </tr>\n",
       "    <tr>\n",
       "      <th>5</th>\n",
       "      <td>Extra Trees</td>\n",
       "      <td>1.000000</td>\n",
       "      <td>0.644656</td>\n",
       "      <td>0.644656</td>\n",
       "      <td>1582.629616</td>\n",
       "      <td>12.205750</td>\n",
       "      <td>1.700004e+07</td>\n",
       "    </tr>\n",
       "    <tr>\n",
       "      <th>6</th>\n",
       "      <td>GradientBoosting</td>\n",
       "      <td>0.737108</td>\n",
       "      <td>0.703172</td>\n",
       "      <td>0.703172</td>\n",
       "      <td>1719.774371</td>\n",
       "      <td>13.837867</td>\n",
       "      <td>1.477330e+07</td>\n",
       "    </tr>\n",
       "    <tr>\n",
       "      <th>7</th>\n",
       "      <td>Random Forest</td>\n",
       "      <td>0.934756</td>\n",
       "      <td>0.699608</td>\n",
       "      <td>0.699608</td>\n",
       "      <td>1514.671667</td>\n",
       "      <td>11.866305</td>\n",
       "      <td>1.435043e+07</td>\n",
       "    </tr>\n",
       "    <tr>\n",
       "      <th>8</th>\n",
       "      <td>Final_Model</td>\n",
       "      <td>0.735864</td>\n",
       "      <td>0.696205</td>\n",
       "      <td>0.696205</td>\n",
       "      <td>1654.004056</td>\n",
       "      <td>13.675273</td>\n",
       "      <td>1.309745e+07</td>\n",
       "    </tr>\n",
       "  </tbody>\n",
       "</table>\n",
       "</div>"
      ],
      "text/plain": [
       "               Model  Training_Score  Testing_Score  R2_Score          MAE  \\\n",
       "0  Linear Regression        0.638623       0.622972  0.622972  2097.807349   \n",
       "1      Decision Tree        1.000000       0.525065  0.525065  1620.005182   \n",
       "2         Extra Tree        1.000000       0.401756  0.401756  1865.814592   \n",
       "3           AdaBoost        0.601860       0.636915  0.636915  2703.492133   \n",
       "4            Bagging        0.932844       0.701972  0.701972  1512.906382   \n",
       "5        Extra Trees        1.000000       0.644656  0.644656  1582.629616   \n",
       "6   GradientBoosting        0.737108       0.703172  0.703172  1719.774371   \n",
       "7      Random Forest        0.934756       0.699608  0.699608  1514.671667   \n",
       "8        Final_Model        0.735864       0.696205  0.696205  1654.004056   \n",
       "\n",
       "        MAPE           MSE  \n",
       "0  24.178603  1.822866e+07  \n",
       "1  12.743255  2.342752e+07  \n",
       "2  14.019912  2.862061e+07  \n",
       "3  30.384927  1.930956e+07  \n",
       "4  11.463473  1.516899e+07  \n",
       "5  12.205750  1.700004e+07  \n",
       "6  13.837867  1.477330e+07  \n",
       "7  11.866305  1.435043e+07  \n",
       "8  13.675273  1.309745e+07  "
      ]
     },
     "execution_count": 164,
     "metadata": {},
     "output_type": "execute_result"
    }
   ],
   "source": [
    "ALL_SCORES"
   ]
  },
  {
   "cell_type": "code",
   "execution_count": null,
   "metadata": {},
   "outputs": [],
   "source": []
  }
 ],
 "metadata": {
  "kernelspec": {
   "display_name": "Python 3",
   "language": "python",
   "name": "python3"
  },
  "language_info": {
   "codemirror_mode": {
    "name": "ipython",
    "version": 3
   },
   "file_extension": ".py",
   "mimetype": "text/x-python",
   "name": "python",
   "nbconvert_exporter": "python",
   "pygments_lexer": "ipython3",
   "version": "3.7.3"
  },
  "toc": {
   "base_numbering": 1,
   "nav_menu": {},
   "number_sections": true,
   "sideBar": true,
   "skip_h1_title": false,
   "title_cell": "Table of Contents",
   "title_sidebar": "Contents",
   "toc_cell": false,
   "toc_position": {
    "height": "648.75px",
    "left": "35px",
    "top": "109.453px",
    "width": "341.484px"
   },
   "toc_section_display": true,
   "toc_window_display": true
  }
 },
 "nbformat": 4,
 "nbformat_minor": 2
}
